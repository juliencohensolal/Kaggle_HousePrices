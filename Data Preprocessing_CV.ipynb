{
 "cells": [
  {
   "cell_type": "code",
   "execution_count": 1,
   "metadata": {
    "collapsed": true
   },
   "outputs": [],
   "source": [
    "# Imports\n",
    "import pandas as pd\n",
    "import numpy as np\n",
    "from sklearn.model_selection import train_test_split\n",
    "from sklearn.preprocessing import StandardScaler\n",
    "from scipy.stats import skew\n",
    "from IPython.display import display\n",
    "import matplotlib.pyplot as plt\n",
    "import seaborn as sns\n",
    "\n",
    "# Definitions\n",
    "pd.set_option('display.float_format', lambda x: '%.3f' % x)\n",
    "%matplotlib inline\n",
    "njobs = 4\n",
    "randomState = 0"
   ]
  },
  {
   "cell_type": "code",
   "execution_count": 2,
   "metadata": {
    "collapsed": false
   },
   "outputs": [
    {
     "name": "stdout",
     "output_type": "stream",
     "text": [
      "train : (1460, 81)\n",
      "There are 0 duplicate IDs for 1460 total entries\n"
     ]
    }
   ],
   "source": [
    "# Get data\n",
    "train = pd.read_csv(\"rawData/train.csv\")\n",
    "print(\"train : \" + str(train.shape))\n",
    "\n",
    "# Check for duplicates\n",
    "idsUnique = len(set(train.Id))\n",
    "idsTotal = train.shape[0]\n",
    "idsDupli = idsTotal - idsUnique\n",
    "print(\"There are \" + str(idsDupli) + \" duplicate IDs for \" + str(idsTotal) + \" total entries\")\n",
    "\n",
    "# Drop Id column\n",
    "train.drop(\"Id\", axis = 1, inplace = True)"
   ]
  },
  {
   "cell_type": "code",
   "execution_count": 3,
   "metadata": {
    "collapsed": false
   },
   "outputs": [
    {
     "data": {
      "image/png": "[encoded data removed]",
      "text/plain": [
       "<matplotlib.figure.Figure at 0x1c9be1f3198>"
      ]
     },
     "metadata": {},
     "output_type": "display_data"
    },
    {
     "name": "stdout",
     "output_type": "stream",
     "text": [
      "There seems to be 2 extreme outliers on the bottom right, really large houses that sold for really cheap\n",
      "More generally, the author of the dataset recommends removing 'any houses with more than 4000 square feet' from the dataset (ref : https://ww2.amstat.org/publications/jse/v19n3/decock.pdf)\n",
      "train : (1456, 80)\n"
     ]
    }
   ],
   "source": [
    "# Looking for outliers, as indicated in https://ww2.amstat.org/publications/jse/v19n3/decock.pdf\n",
    "plt.scatter(train.GrLivArea, train.SalePrice, c = \"blue\", marker = \"s\")\n",
    "plt.title(\"Looking for outliers\")\n",
    "plt.xlabel(\"GrLivArea\")\n",
    "plt.ylabel(\"SalePrice\")\n",
    "plt.show()\n",
    "\n",
    "print(\"There seems to be 2 extreme outliers on the bottom right, really large houses that sold for really cheap\")\n",
    "print(\"More generally, the author of the dataset recommends removing 'any houses with more than 4000 square feet' \\\n",
    "from the dataset (ref : https://ww2.amstat.org/publications/jse/v19n3/decock.pdf)\")\n",
    "train = train[train.GrLivArea < 4000]\n",
    "print(\"train : \" + str(train.shape))"
   ]
  },
  {
   "cell_type": "code",
   "execution_count": 4,
   "metadata": {
    "collapsed": true
   },
   "outputs": [],
   "source": [
    "# Log transform the target for official scoring\n",
    "# Taking logs means that errors in predicting expensive houses and cheap houses will affect the result equally\n",
    "train.SalePrice = np.log1p(train.SalePrice)\n",
    "y = train.SalePrice"
   ]
  },
  {
   "cell_type": "code",
   "execution_count": 5,
   "metadata": {
    "collapsed": true
   },
   "outputs": [],
   "source": [
    "# Handle missing values for features where median/mean or most common value doesn't make sense\n",
    "\n",
    "# Alley : data description says NA means \"no alley access\"\n",
    "train.loc[:, \"Alley\"] = train.loc[:, \"Alley\"].fillna(\"None\")\n",
    "# BedroomAbvGr : NA most likely means 0\n",
    "train.loc[:, \"BedroomAbvGr\"] = train.loc[:, \"BedroomAbvGr\"].fillna(0)\n",
    "# BsmtQual etc : data description says NA for basement features is \"no basement\"\n",
    "train.loc[:, \"BsmtQual\"] = train.loc[:, \"BsmtQual\"].fillna(\"No\")\n",
    "train.loc[:, \"BsmtCond\"] = train.loc[:, \"BsmtCond\"].fillna(\"No\")\n",
    "train.loc[:, \"BsmtExposure\"] = train.loc[:, \"BsmtExposure\"].fillna(\"No\")\n",
    "train.loc[:, \"BsmtFinType1\"] = train.loc[:, \"BsmtFinType1\"].fillna(\"No\")\n",
    "train.loc[:, \"BsmtFinType2\"] = train.loc[:, \"BsmtFinType2\"].fillna(\"No\")\n",
    "train.loc[:, \"BsmtFullBath\"] = train.loc[:, \"BsmtFullBath\"].fillna(0)\n",
    "train.loc[:, \"BsmtHalfBath\"] = train.loc[:, \"BsmtHalfBath\"].fillna(0)\n",
    "train.loc[:, \"BsmtUnfSF\"] = train.loc[:, \"BsmtUnfSF\"].fillna(0)\n",
    "# CentralAir : NA most likely means No\n",
    "train.loc[:, \"CentralAir\"] = train.loc[:, \"CentralAir\"].fillna(\"N\")\n",
    "# Condition : NA most likely means Normal\n",
    "train.loc[:, \"Condition1\"] = train.loc[:, \"Condition1\"].fillna(\"Norm\")\n",
    "train.loc[:, \"Condition2\"] = train.loc[:, \"Condition2\"].fillna(\"Norm\")\n",
    "# EnclosedPorch : NA most likely means no enclosed porch\n",
    "train.loc[:, \"EnclosedPorch\"] = train.loc[:, \"EnclosedPorch\"].fillna(0)\n",
    "# External stuff : NA most likely means average\n",
    "train.loc[:, \"ExterCond\"] = train.loc[:, \"ExterCond\"].fillna(\"TA\")\n",
    "train.loc[:, \"ExterQual\"] = train.loc[:, \"ExterQual\"].fillna(\"TA\")\n",
    "# Fence : data description says NA means \"no fence\"\n",
    "train.loc[:, \"Fence\"] = train.loc[:, \"Fence\"].fillna(\"No\")\n",
    "# FireplaceQu : data description says NA means \"no fireplace\"\n",
    "train.loc[:, \"FireplaceQu\"] = train.loc[:, \"FireplaceQu\"].fillna(\"No\")\n",
    "train.loc[:, \"Fireplaces\"] = train.loc[:, \"Fireplaces\"].fillna(0)\n",
    "# Functional : data description says NA means typical\n",
    "train.loc[:, \"Functional\"] = train.loc[:, \"Functional\"].fillna(\"Typ\")\n",
    "# GarageType etc : data description says NA for garage features is \"no garage\"\n",
    "train.loc[:, \"GarageType\"] = train.loc[:, \"GarageType\"].fillna(\"No\")\n",
    "train.loc[:, \"GarageFinish\"] = train.loc[:, \"GarageFinish\"].fillna(\"No\")\n",
    "train.loc[:, \"GarageQual\"] = train.loc[:, \"GarageQual\"].fillna(\"No\")\n",
    "train.loc[:, \"GarageCond\"] = train.loc[:, \"GarageCond\"].fillna(\"No\")\n",
    "train.loc[:, \"GarageArea\"] = train.loc[:, \"GarageArea\"].fillna(0)\n",
    "train.loc[:, \"GarageCars\"] = train.loc[:, \"GarageCars\"].fillna(0)\n",
    "# HalfBath : NA most likely means no half baths above grade\n",
    "train.loc[:, \"HalfBath\"] = train.loc[:, \"HalfBath\"].fillna(0)\n",
    "# HeatingQC : NA most likely means typical\n",
    "train.loc[:, \"HeatingQC\"] = train.loc[:, \"HeatingQC\"].fillna(\"TA\")\n",
    "# KitchenAbvGr : NA most likely means 0\n",
    "train.loc[:, \"KitchenAbvGr\"] = train.loc[:, \"KitchenAbvGr\"].fillna(0)\n",
    "# KitchenQual : NA most likely means typical\n",
    "train.loc[:, \"KitchenQual\"] = train.loc[:, \"KitchenQual\"].fillna(\"TA\")\n",
    "# LotFrontage : NA most likely means no lot frontage\n",
    "train.loc[:, \"LotFrontage\"] = train.loc[:, \"LotFrontage\"].fillna(0)\n",
    "# LotShape : NA most likely means regular\n",
    "train.loc[:, \"LotShape\"] = train.loc[:, \"LotShape\"].fillna(\"Reg\")\n",
    "# MasVnrType : NA most likely means no veneer\n",
    "train.loc[:, \"MasVnrType\"] = train.loc[:, \"MasVnrType\"].fillna(\"None\")\n",
    "train.loc[:, \"MasVnrArea\"] = train.loc[:, \"MasVnrArea\"].fillna(0)\n",
    "# MiscFeature : data description says NA means \"no misc feature\"\n",
    "train.loc[:, \"MiscFeature\"] = train.loc[:, \"MiscFeature\"].fillna(\"No\")\n",
    "train.loc[:, \"MiscVal\"] = train.loc[:, \"MiscVal\"].fillna(0)\n",
    "# OpenPorchSF : NA most likely means no open porch\n",
    "train.loc[:, \"OpenPorchSF\"] = train.loc[:, \"OpenPorchSF\"].fillna(0)\n",
    "# PavedDrive : NA most likely means not paved\n",
    "train.loc[:, \"PavedDrive\"] = train.loc[:, \"PavedDrive\"].fillna(\"N\")\n",
    "# PoolQC : data description says NA means \"no pool\"\n",
    "train.loc[:, \"PoolQC\"] = train.loc[:, \"PoolQC\"].fillna(\"No\")\n",
    "train.loc[:, \"PoolArea\"] = train.loc[:, \"PoolArea\"].fillna(0)\n",
    "# SaleCondition : NA most likely means normal sale\n",
    "train.loc[:, \"SaleCondition\"] = train.loc[:, \"SaleCondition\"].fillna(\"Normal\")\n",
    "# ScreenPorch : NA most likely means no screen porch\n",
    "train.loc[:, \"ScreenPorch\"] = train.loc[:, \"ScreenPorch\"].fillna(0)\n",
    "# TotRmsAbvGrd : NA most likely means 0\n",
    "train.loc[:, \"TotRmsAbvGrd\"] = train.loc[:, \"TotRmsAbvGrd\"].fillna(0)\n",
    "# Utilities : NA most likely means all public utilities\n",
    "train.loc[:, \"Utilities\"] = train.loc[:, \"Utilities\"].fillna(\"AllPub\")\n",
    "# WoodDeckSF : NA most likely means no wood deck\n",
    "train.loc[:, \"WoodDeckSF\"] = train.loc[:, \"WoodDeckSF\"].fillna(0)"
   ]
  },
  {
   "cell_type": "code",
   "execution_count": 6,
   "metadata": {
    "collapsed": true
   },
   "outputs": [],
   "source": [
    "# Some numerical features are actually really categories\n",
    "train = train.replace({\"MSSubClass\" : {20 : \"SC20\", 30 : \"SC30\", 40 : \"SC40\", 45 : \"SC45\", 50 : \"SC50\", 60 : \"SC60\",\n",
    "                                       70 : \"SC70\", 75 : \"SC75\", 80 : \"SC80\", 85 : \"SC85\", 90 : \"SC90\", 120 : \"SC120\", \n",
    "                                       150 : \"SC150\", 160 : \"SC160\", 180 : \"SC180\", 190 : \"SC190\"},\n",
    "                       \"MoSold\" : {1 : \"Jan\", 2 : \"Feb\", 3 : \"Mar\", 4 : \"Apr\", 5 : \"May\", 6 : \"Jun\",\n",
    "                                   7 : \"Jul\", 8 : \"Aug\", 9 : \"Sep\", 10 : \"Oct\", 11 : \"Nov\", 12 : \"Dec\"}\n",
    "                      })"
   ]
  },
  {
   "cell_type": "code",
   "execution_count": 7,
   "metadata": {
    "collapsed": true
   },
   "outputs": [],
   "source": [
    "# Encode some categorical features as ordered numbers when there is information in the order\n",
    "train = train.replace({\"Alley\" : {\"Grvl\" : 1, \"Pave\" : 2},\n",
    "                       \"BsmtCond\" : {\"No\" : 0, \"Po\" : 1, \"Fa\" : 2, \"TA\" : 3, \"Gd\" : 4, \"Ex\" : 5},\n",
    "                       \"BsmtExposure\" : {\"No\" : 0, \"Mn\" : 1, \"Av\": 2, \"Gd\" : 3},\n",
    "                       \"BsmtFinType1\" : {\"No\" : 0, \"Unf\" : 1, \"LwQ\": 2, \"Rec\" : 3, \"BLQ\" : 4, \"ALQ\" : 5, \"GLQ\" : 6},\n",
    "                       \"BsmtFinType2\" : {\"No\" : 0, \"Unf\" : 1, \"LwQ\": 2, \"Rec\" : 3, \"BLQ\" : 4, \"ALQ\" : 5, \"GLQ\" : 6},\n",
    "                       \"BsmtQual\" : {\"No\" : 0, \"Po\" : 1, \"Fa\" : 2, \"TA\": 3, \"Gd\" : 4, \"Ex\" : 5},\n",
    "                       \"ExterCond\" : {\"Po\" : 1, \"Fa\" : 2, \"TA\": 3, \"Gd\": 4, \"Ex\" : 5},\n",
    "                       \"ExterQual\" : {\"Po\" : 1, \"Fa\" : 2, \"TA\": 3, \"Gd\": 4, \"Ex\" : 5},\n",
    "                       \"FireplaceQu\" : {\"No\" : 0, \"Po\" : 1, \"Fa\" : 2, \"TA\" : 3, \"Gd\" : 4, \"Ex\" : 5},\n",
    "                       \"Functional\" : {\"Sal\" : 1, \"Sev\" : 2, \"Maj2\" : 3, \"Maj1\" : 4, \"Mod\": 5, \"Min2\" : 6, \n",
    "                                       \"Min1\" : 7, \"Typ\" : 8},\n",
    "                       \"GarageCond\" : {\"No\" : 0, \"Po\" : 1, \"Fa\" : 2, \"TA\" : 3, \"Gd\" : 4, \"Ex\" : 5},\n",
    "                       \"GarageQual\" : {\"No\" : 0, \"Po\" : 1, \"Fa\" : 2, \"TA\" : 3, \"Gd\" : 4, \"Ex\" : 5},\n",
    "                       \"HeatingQC\" : {\"Po\" : 1, \"Fa\" : 2, \"TA\" : 3, \"Gd\" : 4, \"Ex\" : 5},\n",
    "                       \"KitchenQual\" : {\"Po\" : 1, \"Fa\" : 2, \"TA\" : 3, \"Gd\" : 4, \"Ex\" : 5},\n",
    "                       \"LandSlope\" : {\"Sev\" : 1, \"Mod\" : 2, \"Gtl\" : 3},\n",
    "                       \"LotShape\" : {\"IR3\" : 1, \"IR2\" : 2, \"IR1\" : 3, \"Reg\" : 4},\n",
    "                       \"PavedDrive\" : {\"N\" : 0, \"P\" : 1, \"Y\" : 2},\n",
    "                       \"PoolQC\" : {\"No\" : 0, \"Fa\" : 1, \"TA\" : 2, \"Gd\" : 3, \"Ex\" : 4},\n",
    "                       \"Street\" : {\"Grvl\" : 1, \"Pave\" : 2},\n",
    "                       \"Utilities\" : {\"ELO\" : 1, \"NoSeWa\" : 2, \"NoSewr\" : 3, \"AllPub\" : 4}}\n",
    "                     )"
   ]
  },
  {
   "cell_type": "code",
   "execution_count": 8,
   "metadata": {
    "collapsed": true
   },
   "outputs": [],
   "source": [
    "# Create new features\n",
    "# 1* Simplifications of existing features\n",
    "train[\"SimplOverallQual\"] = train.OverallQual.replace({1 : 1, 2 : 1, 3 : 1, # bad\n",
    "                                                       4 : 2, 5 : 2, 6 : 2, # average\n",
    "                                                       7 : 3, 8 : 3, 9 : 3, 10 : 3 # good\n",
    "                                                      })\n",
    "train[\"SimplOverallCond\"] = train.OverallCond.replace({1 : 1, 2 : 1, 3 : 1, # bad\n",
    "                                                       4 : 2, 5 : 2, 6 : 2, # average\n",
    "                                                       7 : 3, 8 : 3, 9 : 3, 10 : 3 # good\n",
    "                                                      })\n",
    "train[\"SimplPoolQC\"] = train.PoolQC.replace({1 : 1, 2 : 1, # average\n",
    "                                             3 : 2, 4 : 2 # good\n",
    "                                            })\n",
    "train[\"SimplGarageCond\"] = train.GarageCond.replace({1 : 1, # bad\n",
    "                                                     2 : 1, 3 : 1, # average\n",
    "                                                     4 : 2, 5 : 2 # good\n",
    "                                                    })\n",
    "train[\"SimplGarageQual\"] = train.GarageQual.replace({1 : 1, # bad\n",
    "                                                     2 : 1, 3 : 1, # average\n",
    "                                                     4 : 2, 5 : 2 # good\n",
    "                                                    })\n",
    "train[\"SimplFireplaceQu\"] = train.FireplaceQu.replace({1 : 1, # bad\n",
    "                                                       2 : 1, 3 : 1, # average\n",
    "                                                       4 : 2, 5 : 2 # good\n",
    "                                                      })\n",
    "train[\"SimplFireplaceQu\"] = train.FireplaceQu.replace({1 : 1, # bad\n",
    "                                                       2 : 1, 3 : 1, # average\n",
    "                                                       4 : 2, 5 : 2 # good\n",
    "                                                      })\n",
    "train[\"SimplFunctional\"] = train.Functional.replace({1 : 1, 2 : 1, # bad\n",
    "                                                     3 : 2, 4 : 2, # major\n",
    "                                                     5 : 3, 6 : 3, 7 : 3, # minor\n",
    "                                                     8 : 4 # typical\n",
    "                                                    })\n",
    "train[\"SimplKitchenQual\"] = train.KitchenQual.replace({1 : 1, # bad\n",
    "                                                       2 : 1, 3 : 1, # average\n",
    "                                                       4 : 2, 5 : 2 # good\n",
    "                                                      })\n",
    "train[\"SimplHeatingQC\"] = train.HeatingQC.replace({1 : 1, # bad\n",
    "                                                   2 : 1, 3 : 1, # average\n",
    "                                                   4 : 2, 5 : 2 # good\n",
    "                                                  })\n",
    "train[\"SimplBsmtFinType1\"] = train.BsmtFinType1.replace({1 : 1, # unfinished\n",
    "                                                         2 : 1, 3 : 1, # rec room\n",
    "                                                         4 : 2, 5 : 2, 6 : 2 # living quarters\n",
    "                                                        })\n",
    "train[\"SimplBsmtFinType2\"] = train.BsmtFinType2.replace({1 : 1, # unfinished\n",
    "                                                         2 : 1, 3 : 1, # rec room\n",
    "                                                         4 : 2, 5 : 2, 6 : 2 # living quarters\n",
    "                                                        })\n",
    "train[\"SimplBsmtCond\"] = train.BsmtCond.replace({1 : 1, # bad\n",
    "                                                 2 : 1, 3 : 1, # average\n",
    "                                                 4 : 2, 5 : 2 # good\n",
    "                                                })\n",
    "train[\"SimplBsmtQual\"] = train.BsmtQual.replace({1 : 1, # bad\n",
    "                                                 2 : 1, 3 : 1, # average\n",
    "                                                 4 : 2, 5 : 2 # good\n",
    "                                                })\n",
    "train[\"SimplExterCond\"] = train.ExterCond.replace({1 : 1, # bad\n",
    "                                                   2 : 1, 3 : 1, # average\n",
    "                                                   4 : 2, 5 : 2 # good\n",
    "                                                  })\n",
    "train[\"SimplExterQual\"] = train.ExterQual.replace({1 : 1, # bad\n",
    "                                                   2 : 1, 3 : 1, # average\n",
    "                                                   4 : 2, 5 : 2 # good\n",
    "                                                  })\n",
    "\n",
    "# 2* Combinations of existing features\n",
    "# Overall quality of the house\n",
    "train[\"OverallGrade\"] = train[\"OverallQual\"] * train[\"OverallCond\"]\n",
    "# Overall quality of the garage\n",
    "train[\"GarageGrade\"] = train[\"GarageQual\"] * train[\"GarageCond\"]\n",
    "# Overall quality of the exterior\n",
    "train[\"ExterGrade\"] = train[\"ExterQual\"] * train[\"ExterCond\"]\n",
    "# Overall kitchen score\n",
    "train[\"KitchenScore\"] = train[\"KitchenAbvGr\"] * train[\"KitchenQual\"]\n",
    "# Overall fireplace score\n",
    "train[\"FireplaceScore\"] = train[\"Fireplaces\"] * train[\"FireplaceQu\"]\n",
    "# Overall garage score\n",
    "train[\"GarageScore\"] = train[\"GarageArea\"] * train[\"GarageQual\"]\n",
    "# Overall pool score\n",
    "train[\"PoolScore\"] = train[\"PoolArea\"] * train[\"PoolQC\"]\n",
    "# Simplified overall quality of the house\n",
    "train[\"SimplOverallGrade\"] = train[\"SimplOverallQual\"] * train[\"SimplOverallCond\"]\n",
    "# Simplified overall quality of the exterior\n",
    "train[\"SimplExterGrade\"] = train[\"SimplExterQual\"] * train[\"SimplExterCond\"]\n",
    "# Simplified overall pool score\n",
    "train[\"SimplPoolScore\"] = train[\"PoolArea\"] * train[\"SimplPoolQC\"]\n",
    "# Simplified overall garage score\n",
    "train[\"SimplGarageScore\"] = train[\"GarageArea\"] * train[\"SimplGarageQual\"]\n",
    "# Simplified overall fireplace score\n",
    "train[\"SimplFireplaceScore\"] = train[\"Fireplaces\"] * train[\"SimplFireplaceQu\"]\n",
    "# Simplified overall kitchen score\n",
    "train[\"SimplKitchenScore\"] = train[\"KitchenAbvGr\"] * train[\"SimplKitchenQual\"]\n",
    "# Total number of bathrooms\n",
    "train[\"TotalBath\"] = train[\"BsmtFullBath\"] + (0.5 * train[\"BsmtHalfBath\"]) + train[\"FullBath\"] + (0.5 * train[\"HalfBath\"])\n",
    "# Total SF for house (incl. basement)\n",
    "train[\"AllSF\"] = train[\"GrLivArea\"] + train[\"TotalBsmtSF\"]\n",
    "# Total SF for 1st + 2nd floors\n",
    "train[\"AllFlrsSF\"] = train[\"1stFlrSF\"] + train[\"2ndFlrSF\"]\n",
    "# Total SF for porch\n",
    "train[\"AllPorchSF\"] = train[\"OpenPorchSF\"] + train[\"EnclosedPorch\"] + train[\"3SsnPorch\"] + train[\"ScreenPorch\"]\n",
    "# Has masonry veneer or not\n",
    "train[\"HasMasVnr\"] = train.MasVnrType.replace({\"BrkCmn\" : 1, \"BrkFace\" : 1, \"CBlock\" : 1, \"Stone\" : 1, \"None\" : 0})\n",
    "# House completed before sale or not\n",
    "train[\"BoughtOffPlan\"] = train.SaleCondition.replace({\"Abnorml\" : 0, \"Alloca\" : 0, \"AdjLand\" : 0, \n",
    "                                                      \"Family\" : 0, \"Normal\" : 0, \"Partial\" : 1})"
   ]
  },
  {
   "cell_type": "code",
   "execution_count": 9,
   "metadata": {
    "collapsed": false
   },
   "outputs": [
    {
     "name": "stdout",
     "output_type": "stream",
     "text": [
      "Find most important features relative to target\n",
      "SalePrice            1.000\n",
      "OverallQual          0.819\n",
      "AllSF                0.817\n",
      "AllFlrsSF            0.729\n",
      "GrLivArea            0.719\n",
      "SimplOverallQual     0.708\n",
      "ExterQual            0.681\n",
      "GarageCars           0.680\n",
      "TotalBath            0.673\n",
      "KitchenQual          0.667\n",
      "GarageScore          0.657\n",
      "GarageArea           0.655\n",
      "TotalBsmtSF          0.642\n",
      "SimplExterQual       0.636\n",
      "SimplGarageScore     0.631\n",
      "BsmtQual             0.615\n",
      "1stFlrSF             0.614\n",
      "SimplKitchenQual     0.610\n",
      "OverallGrade         0.604\n",
      "SimplBsmtQual        0.594\n",
      "FullBath             0.591\n",
      "YearBuilt            0.589\n",
      "ExterGrade           0.587\n",
      "YearRemodAdd         0.569\n",
      "FireplaceQu          0.547\n",
      "GarageYrBlt          0.544\n",
      "TotRmsAbvGrd         0.533\n",
      "SimplOverallGrade    0.527\n",
      "SimplKitchenScore    0.523\n",
      "FireplaceScore       0.518\n",
      "                     ...  \n",
      "SimplBsmtCond        0.204\n",
      "BedroomAbvGr         0.204\n",
      "AllPorchSF           0.199\n",
      "LotFrontage          0.174\n",
      "SimplFunctional      0.137\n",
      "Functional           0.136\n",
      "ScreenPorch          0.124\n",
      "SimplBsmtFinType2    0.105\n",
      "Street               0.058\n",
      "3SsnPorch            0.056\n",
      "ExterCond            0.051\n",
      "PoolArea             0.041\n",
      "SimplPoolScore       0.040\n",
      "SimplPoolQC          0.040\n",
      "PoolScore            0.040\n",
      "PoolQC               0.038\n",
      "BsmtFinType2         0.016\n",
      "Utilities            0.013\n",
      "BsmtFinSF2           0.006\n",
      "BsmtHalfBath        -0.015\n",
      "MiscVal             -0.020\n",
      "SimplOverallCond    -0.028\n",
      "YrSold              -0.034\n",
      "OverallCond         -0.037\n",
      "LowQualFinSF        -0.038\n",
      "LandSlope           -0.040\n",
      "SimplExterCond      -0.042\n",
      "KitchenAbvGr        -0.148\n",
      "EnclosedPorch       -0.149\n",
      "LotShape            -0.286\n",
      "Name: SalePrice, dtype: float64\n"
     ]
    }
   ],
   "source": [
    "# Find most important features relative to target\n",
    "print(\"Find most important features relative to target\")\n",
    "corr = train.corr()\n",
    "corr.sort_values([\"SalePrice\"], ascending = False, inplace = True)\n",
    "print(corr.SalePrice)"
   ]
  },
  {
   "cell_type": "code",
   "execution_count": 10,
   "metadata": {
    "collapsed": true
   },
   "outputs": [],
   "source": [
    "# Create new features\n",
    "# 3* Polynomials on the top 25 existing features\n",
    "train[\"OverallQual-s2\"] = train[\"OverallQual\"] ** 2\n",
    "train[\"OverallQual-s3\"] = train[\"OverallQual\"] ** 3\n",
    "train[\"OverallQual-Sq\"] = np.sqrt(train[\"OverallQual\"])\n",
    "train[\"AllSF-2\"] = train[\"AllSF\"] ** 2\n",
    "train[\"AllSF-3\"] = train[\"AllSF\"] ** 3\n",
    "train[\"AllSF-Sq\"] = np.sqrt(train[\"AllSF\"])\n",
    "train[\"AllFlrsSF-2\"] = train[\"AllFlrsSF\"] ** 2\n",
    "train[\"AllFlrsSF-3\"] = train[\"AllFlrsSF\"] ** 3\n",
    "train[\"AllFlrsSF-Sq\"] = np.sqrt(train[\"AllFlrsSF\"])\n",
    "train[\"GrLivArea-2\"] = train[\"GrLivArea\"] ** 2\n",
    "train[\"GrLivArea-3\"] = train[\"GrLivArea\"] ** 3\n",
    "train[\"GrLivArea-Sq\"] = np.sqrt(train[\"GrLivArea\"])\n",
    "train[\"SimplOverallQual-s2\"] = train[\"SimplOverallQual\"] ** 2\n",
    "train[\"SimplOverallQual-s3\"] = train[\"SimplOverallQual\"] ** 3\n",
    "train[\"SimplOverallQual-Sq\"] = np.sqrt(train[\"SimplOverallQual\"])\n",
    "train[\"ExterQual-2\"] = train[\"ExterQual\"] ** 2\n",
    "train[\"ExterQual-3\"] = train[\"ExterQual\"] ** 3\n",
    "train[\"ExterQual-Sq\"] = np.sqrt(train[\"ExterQual\"])\n",
    "train[\"GarageCars-2\"] = train[\"GarageCars\"] ** 2\n",
    "train[\"GarageCars-3\"] = train[\"GarageCars\"] ** 3\n",
    "train[\"GarageCars-Sq\"] = np.sqrt(train[\"GarageCars\"])\n",
    "train[\"TotalBath-2\"] = train[\"TotalBath\"] ** 2\n",
    "train[\"TotalBath-3\"] = train[\"TotalBath\"] ** 3\n",
    "train[\"TotalBath-Sq\"] = np.sqrt(train[\"TotalBath\"])\n",
    "train[\"KitchenQual-2\"] = train[\"KitchenQual\"] ** 2\n",
    "train[\"KitchenQual-3\"] = train[\"KitchenQual\"] ** 3\n",
    "train[\"KitchenQual-Sq\"] = np.sqrt(train[\"KitchenQual\"])\n",
    "train[\"GarageScore-2\"] = train[\"GarageScore\"] ** 2\n",
    "train[\"GarageScore-3\"] = train[\"GarageScore\"] ** 3\n",
    "train[\"GarageScore-Sq\"] = np.sqrt(train[\"GarageScore\"])\n",
    "train[\"GarageArea-2\"] = train[\"GarageArea\"] ** 2\n",
    "train[\"GarageArea-3\"] = train[\"GarageArea\"] ** 3\n",
    "train[\"GarageArea-Sq\"] = np.sqrt(train[\"GarageArea\"])\n",
    "train[\"TotalBsmtSF-2\"] = train[\"TotalBsmtSF\"] ** 2\n",
    "train[\"TotalBsmtSF-3\"] = train[\"TotalBsmtSF\"] ** 3\n",
    "train[\"TotalBsmtSF-Sq\"] = np.sqrt(train[\"TotalBsmtSF\"])\n",
    "train[\"SimplExterQual-2\"] = train[\"SimplExterQual\"] ** 2\n",
    "train[\"SimplExterQual-3\"] = train[\"SimplExterQual\"] ** 3\n",
    "train[\"SimplExterQual-Sq\"] = np.sqrt(train[\"SimplExterQual\"])\n",
    "train[\"SimplGarageScore-2\"] = train[\"SimplGarageScore\"] ** 2\n",
    "train[\"SimplGarageScore-3\"] = train[\"SimplGarageScore\"] ** 3\n",
    "train[\"SimplGarageScore-Sq\"] = np.sqrt(train[\"SimplGarageScore\"])\n",
    "train[\"BsmtQual-2\"] = train[\"BsmtQual\"] ** 2\n",
    "train[\"BsmtQual-3\"] = train[\"BsmtQual\"] ** 3\n",
    "train[\"BsmtQual-Sq\"] = np.sqrt(train[\"BsmtQual\"])\n",
    "train[\"1stFlrSF-2\"] = train[\"1stFlrSF\"] ** 2\n",
    "train[\"1stFlrSF-3\"] = train[\"1stFlrSF\"] ** 3\n",
    "train[\"1stFlrSF-Sq\"] = np.sqrt(train[\"1stFlrSF\"])\n",
    "train[\"SimplKitchenQual-2\"] = train[\"SimplKitchenQual\"] ** 2\n",
    "train[\"SimplKitchenQual-3\"] = train[\"SimplKitchenQual\"] ** 3\n",
    "train[\"SimplKitchenQual-Sq\"] = np.sqrt(train[\"SimplKitchenQual\"])\n",
    "train[\"OverallGrade-2\"] = train[\"OverallGrade\"] ** 2\n",
    "train[\"OverallGrade-3\"] = train[\"OverallGrade\"] ** 3\n",
    "train[\"OverallGrade-Sq\"] = np.sqrt(train[\"OverallGrade\"])\n",
    "train[\"SimplBsmtQual-2\"] = train[\"SimplBsmtQual\"] ** 2\n",
    "train[\"SimplBsmtQual-3\"] = train[\"SimplBsmtQual\"] ** 3\n",
    "train[\"SimplBsmtQual-Sq\"] = np.sqrt(train[\"SimplBsmtQual\"])\n",
    "train[\"FullBath-2\"] = train[\"FullBath\"] ** 2\n",
    "train[\"FullBath-3\"] = train[\"FullBath\"] ** 3\n",
    "train[\"FullBath-Sq\"] = np.sqrt(train[\"FullBath\"])\n",
    "train[\"YearBuilt-2\"] = train[\"YearBuilt\"] ** 2\n",
    "train[\"YearBuilt-3\"] = train[\"YearBuilt\"] ** 3\n",
    "train[\"YearBuilt-Sq\"] = np.sqrt(train[\"YearBuilt\"])\n",
    "train[\"ExterGrade-2\"] = train[\"ExterGrade\"] ** 2\n",
    "train[\"ExterGrade-3\"] = train[\"ExterGrade\"] ** 3\n",
    "train[\"ExterGrade-Sq\"] = np.sqrt(train[\"ExterGrade\"])\n",
    "train[\"YearRemodAdd-2\"] = train[\"YearRemodAdd\"] ** 2\n",
    "train[\"YearRemodAdd-3\"] = train[\"YearRemodAdd\"] ** 3\n",
    "train[\"YearRemodAdd-Sq\"] = np.sqrt(train[\"YearRemodAdd\"])\n",
    "train[\"FireplaceQu-2\"] = train[\"FireplaceQu\"] ** 2\n",
    "train[\"FireplaceQu-3\"] = train[\"FireplaceQu\"] ** 3\n",
    "train[\"FireplaceQu-Sq\"] = np.sqrt(train[\"FireplaceQu\"])"
   ]
  },
  {
   "cell_type": "code",
   "execution_count": 11,
   "metadata": {
    "collapsed": true
   },
   "outputs": [],
   "source": [
    "# Create new features\n",
    "# 4* Cross-products on the top 10 existing features\n",
    "'''feats = [\"OverallQual\", \"AllSF\", \"AllFlrsSF\", \"GrLivArea\", \"SimplOverallQual\", \"ExterQual\", \"GarageCars\", \"TotalBath\", \n",
    "         \"KitchenQual\", \"GarageScore\", \"GarageArea\", \"TotalBsmtSF\", \"SimplExterQual\", \"SimplGarageScore\", \"BsmtQual\", \n",
    "         \"1stFlrSF\", \"SimplKitchenQual\", \"OverallGrade\", \"SimplBsmtQual\", \"FullBath\", \"YearBuilt\", \"ExterGrade\", \n",
    "         \"YearRemodAdd\", \"FireplaceQu\"]'''\n",
    "train[\"OverallQual*AllSF\"] = train[\"OverallQual\"] * train[\"AllSF\"]\n",
    "train[\"OverallQual*AllFlrsSF\"] = train[\"OverallQual\"] * train[\"AllFlrsSF\"]\n",
    "train[\"OverallQual*GrLivArea\"] = train[\"OverallQual\"] * train[\"GrLivArea\"]\n",
    "train[\"OverallQual*SimplOverallQual\"] = train[\"OverallQual\"] * train[\"SimplOverallQual\"]\n",
    "train[\"OverallQual*ExterQual\"] = train[\"OverallQual\"] * train[\"ExterQual\"]\n",
    "train[\"OverallQual*GarageCars\"] = train[\"OverallQual\"] * train[\"GarageCars\"]\n",
    "train[\"OverallQual*TotalBath\"] = train[\"OverallQual\"] * train[\"TotalBath\"]\n",
    "train[\"OverallQual*KitchenQual\"] = train[\"OverallQual\"] * train[\"KitchenQual\"]\n",
    "train[\"OverallQual*GarageScore\"] = train[\"OverallQual\"] * train[\"GarageScore\"]\n",
    "train[\"AllSF*AllFlrsSF\"] = train[\"AllSF\"] * train[\"AllFlrsSF\"]\n",
    "train[\"AllSF*GrLivArea\"] = train[\"AllSF\"] * train[\"GrLivArea\"]\n",
    "train[\"AllSF*SimplOverallQual\"] = train[\"AllSF\"] * train[\"SimplOverallQual\"]\n",
    "train[\"AllSF*ExterQual\"] = train[\"AllSF\"] * train[\"ExterQual\"]\n",
    "train[\"AllSF*GarageCars\"] = train[\"AllSF\"] * train[\"GarageCars\"]\n",
    "train[\"AllSF*TotalBath\"] = train[\"AllSF\"] * train[\"TotalBath\"]\n",
    "train[\"AllSF*KitchenQual\"] = train[\"AllSF\"] * train[\"KitchenQual\"]\n",
    "train[\"AllSF*GarageScore\"] = train[\"AllSF\"] * train[\"GarageScore\"]\n",
    "train[\"AllFlrsSF*GrLivArea\"] = train[\"AllFlrsSF\"] * train[\"GrLivArea\"]\n",
    "train[\"AllFlrsSF*SimplOverallQual\"] = train[\"AllFlrsSF\"] * train[\"SimplOverallQual\"]\n",
    "train[\"AllFlrsSF*ExterQual\"] = train[\"AllFlrsSF\"] * train[\"ExterQual\"]\n",
    "train[\"AllFlrsSF*GarageCars\"] = train[\"AllFlrsSF\"] * train[\"GarageCars\"]\n",
    "train[\"AllFlrsSF*TotalBath\"] = train[\"AllFlrsSF\"] * train[\"TotalBath\"]\n",
    "train[\"AllFlrsSF*KitchenQual\"] = train[\"AllFlrsSF\"] * train[\"KitchenQual\"]\n",
    "train[\"AllFlrsSF*GarageScore\"] = train[\"AllFlrsSF\"] * train[\"GarageScore\"]\n",
    "train[\"GrLivArea*SimplOverallQual\"] = train[\"GrLivArea\"] * train[\"SimplOverallQual\"]\n",
    "train[\"GrLivArea*ExterQual\"] = train[\"GrLivArea\"] * train[\"ExterQual\"]\n",
    "train[\"GrLivArea*GarageCars\"] = train[\"GrLivArea\"] * train[\"GarageCars\"]\n",
    "train[\"GrLivArea*TotalBath\"] = train[\"GrLivArea\"] * train[\"TotalBath\"]\n",
    "train[\"GrLivArea*KitchenQual\"] = train[\"GrLivArea\"] * train[\"KitchenQual\"]\n",
    "train[\"GrLivArea*GarageScore\"] = train[\"GrLivArea\"] * train[\"GarageScore\"]\n",
    "train[\"SimplOverallQual*ExterQual\"] = train[\"SimplOverallQual\"] * train[\"ExterQual\"]\n",
    "train[\"SimplOverallQual*GarageCars\"] = train[\"SimplOverallQual\"] * train[\"GarageCars\"]\n",
    "train[\"SimplOverallQual*TotalBath\"] = train[\"SimplOverallQual\"] * train[\"TotalBath\"]\n",
    "train[\"SimplOverallQual*KitchenQual\"] = train[\"SimplOverallQual\"] * train[\"KitchenQual\"]\n",
    "train[\"SimplOverallQual*GarageScore\"] = train[\"SimplOverallQual\"] * train[\"GarageScore\"]\n",
    "train[\"ExterQual*GarageCars\"] = train[\"ExterQual\"] * train[\"GarageCars\"]\n",
    "train[\"ExterQual*TotalBath\"] = train[\"ExterQual\"] * train[\"TotalBath\"]\n",
    "train[\"ExterQual*KitchenQual\"] = train[\"ExterQual\"] * train[\"KitchenQual\"]\n",
    "train[\"ExterQual*GarageScore\"] = train[\"ExterQual\"] * train[\"GarageScore\"]\n",
    "train[\"GarageCars*TotalBath\"] = train[\"GarageCars\"] * train[\"TotalBath\"]\n",
    "train[\"GarageCars*KitchenQual\"] = train[\"GarageCars\"] * train[\"KitchenQual\"]\n",
    "train[\"GarageCars*GarageScore\"] = train[\"GarageCars\"] * train[\"GarageScore\"]\n",
    "train[\"TotalBath*KitchenQual\"] = train[\"TotalBath\"] * train[\"KitchenQual\"]\n",
    "train[\"TotalBath*GarageScore\"] = train[\"TotalBath\"] * train[\"GarageScore\"]\n",
    "train[\"KitchenQual*GarageScore\"] = train[\"KitchenQual\"] * train[\"GarageScore\"]\n"
   ]
  },
  {
   "cell_type": "code",
   "execution_count": 12,
   "metadata": {
    "collapsed": false
   },
   "outputs": [
    {
     "name": "stdout",
     "output_type": "stream",
     "text": [
      "Numerical features : 204\n",
      "Categorical features : 26\n"
     ]
    }
   ],
   "source": [
    "# Differentiate numerical features (minus the target) and categorical features\n",
    "categorical_features = train.select_dtypes(include = [\"object\"]).columns\n",
    "numerical_features = train.select_dtypes(exclude = [\"object\"]).columns\n",
    "numerical_features = numerical_features.drop(\"SalePrice\")\n",
    "print(\"Numerical features : \" + str(len(numerical_features)))\n",
    "print(\"Categorical features : \" + str(len(categorical_features)))\n",
    "train_num = train[numerical_features]\n",
    "train_cat = train[categorical_features]"
   ]
  },
  {
   "cell_type": "code",
   "execution_count": 13,
   "metadata": {
    "collapsed": false
   },
   "outputs": [
    {
     "name": "stdout",
     "output_type": "stream",
     "text": [
      "NAs for numerical features in train : 81\n",
      "Remaining NAs for numerical features in train : 0\n"
     ]
    }
   ],
   "source": [
    "# Handle remaining missing values for numerical features by using median as replacement\n",
    "print(\"NAs for numerical features in train : \" + str(train_num.isnull().values.sum()))\n",
    "train_num = train_num.fillna(train_num.median())\n",
    "print(\"Remaining NAs for numerical features in train : \" + str(train_num.isnull().values.sum()))"
   ]
  },
  {
   "cell_type": "code",
   "execution_count": 14,
   "metadata": {
    "collapsed": false
   },
   "outputs": [
    {
     "name": "stdout",
     "output_type": "stream",
     "text": [
      "157 skewed numerical features to log transform\n"
     ]
    }
   ],
   "source": [
    "# Log transform of the skewed numerical features to lessen impact of outliers\n",
    "# Inspired by Alexandru Papiu's script : https://www.kaggle.com/apapiu/house-prices-advanced-regression-techniques/regularized-linear-models\n",
    "# As a general rule of thumb, a skewness with an absolute value > 0.5 is considered at least moderately skewed\n",
    "skewness = train_num.apply(lambda x: skew(x))\n",
    "skewness = skewness[abs(skewness) > 0.5]\n",
    "print(str(skewness.shape[0]) + \" skewed numerical features to log transform\")\n",
    "skewed_features = skewness.index\n",
    "train_num[skewed_features] = np.log1p(train_num[skewed_features])"
   ]
  },
  {
   "cell_type": "code",
   "execution_count": 15,
   "metadata": {
    "collapsed": false
   },
   "outputs": [
    {
     "name": "stdout",
     "output_type": "stream",
     "text": [
      "NAs for categorical features in train : 1\n",
      "Remaining NAs for categorical features in train : 0\n"
     ]
    }
   ],
   "source": [
    "# Create dummy features for categorical values via one-hot encoding\n",
    "print(\"NAs for categorical features in train : \" + str(train_cat.isnull().values.sum()))\n",
    "train_cat = pd.get_dummies(train_cat)\n",
    "print(\"Remaining NAs for categorical features in train : \" + str(train_cat.isnull().values.sum()))"
   ]
  },
  {
   "cell_type": "code",
   "execution_count": 16,
   "metadata": {
    "collapsed": false
   },
   "outputs": [
    {
     "name": "stdout",
     "output_type": "stream",
     "text": [
      "New number of features : 406\n",
      "X_train : (1019, 406)\n",
      "X_test : (437, 406)\n",
      "y_train : (1019,)\n",
      "y_test : (437,)\n"
     ]
    }
   ],
   "source": [
    "# Join categorical and numerical features\n",
    "train = pd.concat([train_num, train_cat], axis = 1)\n",
    "print(\"New number of features : \" + str(train.shape[1]))\n",
    "\n",
    "# Partition the dataset in train + validation sets\n",
    "X_train, X_test, y_train, y_test = train_test_split(train, y, test_size = 0.3, random_state = randomState)\n",
    "print(\"X_train : \" + str(X_train.shape))\n",
    "print(\"X_test : \" + str(X_test.shape))\n",
    "print(\"y_train : \" + str(y_train.shape))\n",
    "print(\"y_test : \" + str(y_test.shape))"
   ]
  },
  {
   "cell_type": "code",
   "execution_count": 17,
   "metadata": {
    "collapsed": false
   },
   "outputs": [
    {
     "name": "stderr",
     "output_type": "stream",
     "text": [
      "C:\\Anaconda3\\lib\\site-packages\\pandas\\core\\indexing.py:465: SettingWithCopyWarning: \n",
      "A value is trying to be set on a copy of a slice from a DataFrame.\n",
      "Try using .loc[row_indexer,col_indexer] = value instead\n",
      "\n",
      "See the caveats in the documentation: http://pandas.pydata.org/pandas-docs/stable/indexing.html#indexing-view-versus-copy\n",
      "  self.obj[item] = s\n"
     ]
    }
   ],
   "source": [
    "# Standardize numerical features\n",
    "stdSc = StandardScaler()\n",
    "X_train.loc[:, numerical_features] = stdSc.fit_transform(X_train.loc[:, numerical_features])\n",
    "X_test.loc[:, numerical_features] = stdSc.transform(X_test.loc[:, numerical_features])"
   ]
  },
  {
   "cell_type": "code",
   "execution_count": 18,
   "metadata": {
    "collapsed": false
   },
   "outputs": [],
   "source": [
    "# Write data in CSV files\n",
    "X_train.to_csv(\"cleanData_CV/X_train.csv\", index = False)\n",
    "X_test.to_csv(\"cleanData_CV/X_test.csv\", index = False)\n",
    "y_train.to_csv(\"cleanData_CV/y_train.csv\", index = False)\n",
    "y_test.to_csv(\"cleanData_CV/y_test.csv\", index = False)"
   ]
  },
  {
   "cell_type": "code",
   "execution_count": null,
   "metadata": {
    "collapsed": true
   },
   "outputs": [],
   "source": []
  }
 ],
 "metadata": {
  "anaconda-cloud": {},
  "kernelspec": {
   "display_name": "Python [Root]",
   "language": "python",
   "name": "Python [Root]"
  },
  "language_info": {
   "codemirror_mode": {
    "name": "ipython",
    "version": 3
   },
   "file_extension": ".py",
   "mimetype": "text/x-python",
   "name": "python",
   "nbconvert_exporter": "python",
   "pygments_lexer": "ipython3",
   "version": "3.5.2"
  }
 },
 "nbformat": 4,
 "nbformat_minor": 0
}
