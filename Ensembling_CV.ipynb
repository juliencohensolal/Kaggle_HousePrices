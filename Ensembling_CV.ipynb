{
 "cells": [
  {
   "cell_type": "code",
   "execution_count": 1,
   "metadata": {
    "collapsed": true
   },
   "outputs": [],
   "source": [
    "# Imports\n",
    "import pandas as pd\n",
    "import numpy as np\n",
    "from sklearn.metrics import mean_squared_error\n",
    "from IPython.display import display\n",
    "import matplotlib.pyplot as plt\n",
    "import seaborn as sns\n",
    "\n",
    "# Definitions\n",
    "pd.set_option('display.float_format', lambda x: '%.3f' % x)\n",
    "%matplotlib inline\n",
    "njobs = 4\n",
    "randomState = 0"
   ]
  },
  {
   "cell_type": "code",
   "execution_count": 2,
   "metadata": {
    "collapsed": false
   },
   "outputs": [],
   "source": [
    "# Load predictions\n",
    "lasso = pd.read_csv(\"preds/elasticLR_CV_2016-10-07-10-44.csv\")\n",
    "forest = pd.read_csv(\"preds/forest_CV_2016-10-07-11-04.csv\")\n",
    "xgb = pd.read_csv(\"preds/xgboost_CV_2016-10-07-11-59.csv\")\n",
    "lasso_preds = lasso.SalePrice\n",
    "forest_preds = forest.SalePrice\n",
    "xgb_preds = xgb.SalePrice\n",
    "\n",
    "# Load targets\n",
    "y_test = pd.read_csv(\"cleanData_CV/y_test.csv\", header = None)\n",
    "y_test = y_test[0]"
   ]
  },
  {
   "cell_type": "code",
   "execution_count": 3,
   "metadata": {
    "collapsed": true
   },
   "outputs": [],
   "source": [
    "# Combine predictions\n",
    "ens01 = (0.1 * forest_preds) + (0.9 * xgb_preds)\n",
    "ens02 = (0.2 * forest_preds) + (0.8 * xgb_preds)\n",
    "ens03 = (0.3 * forest_preds) + (0.7 * xgb_preds)\n",
    "ens04 = (0.4 * forest_preds) + (0.6 * xgb_preds)\n",
    "ens05 = (0.5 * forest_preds) + (0.5 * xgb_preds)\n",
    "ens06 = (0.6 * forest_preds) + (0.4 * xgb_preds)\n",
    "ens07 = (0.7 * forest_preds) + (0.3 * xgb_preds)\n",
    "ens08 = (0.8 * forest_preds) + (0.2 * xgb_preds)\n",
    "ens09 = (0.9 * forest_preds) + (0.1 * xgb_preds)\n",
    "ens10 = (0.1 * lasso_preds) + (0.9 * xgb_preds)\n",
    "ens20 = (0.2 * lasso_preds) + (0.8 * xgb_preds)\n",
    "ens30 = (0.3 * lasso_preds) + (0.7 * xgb_preds)\n",
    "ens40 = (0.4 * lasso_preds) + (0.6 * xgb_preds)\n",
    "ens50 = (0.5 * lasso_preds) + (0.5 * xgb_preds)\n",
    "ens60 = (0.6 * lasso_preds) + (0.4 * xgb_preds)\n",
    "ens70 = (0.7 * lasso_preds) + (0.3 * xgb_preds)\n",
    "ens80 = (0.8 * lasso_preds) + (0.2 * xgb_preds)\n",
    "ens90 = (0.9 * lasso_preds) + (0.1 * xgb_preds)\n",
    "ens101 = (0.1 * lasso_preds) + (0.9 * forest_preds)\n",
    "ens102 = (0.2 * lasso_preds) + (0.8 * forest_preds)\n",
    "ens103 = (0.3 * lasso_preds) + (0.7 * forest_preds)\n",
    "ens104 = (0.4 * lasso_preds) + (0.6 * forest_preds)\n",
    "ens105 = (0.5 * lasso_preds) + (0.5 * forest_preds)\n",
    "ens106 = (0.6 * lasso_preds) + (0.4 * forest_preds)\n",
    "ens107 = (0.7 * lasso_preds) + (0.3 * forest_preds)\n",
    "ens108 = (0.8 * lasso_preds) + (0.2 * forest_preds)\n",
    "ens109 = (0.9 * lasso_preds) + (0.1 * forest_preds)\n",
    "ens11 = (0.1 * lasso_preds) + (0.1 * forest_preds) + (0.8 * xgb_preds)\n",
    "ens12 = (0.1 * lasso_preds) + (0.2 * forest_preds) + (0.7 * xgb_preds)\n",
    "ens13 = (0.1 * lasso_preds) + (0.3 * forest_preds) + (0.6 * xgb_preds)\n",
    "ens14 = (0.1 * lasso_preds) + (0.4 * forest_preds) + (0.5 * xgb_preds)\n",
    "ens15 = (0.1 * lasso_preds) + (0.5 * forest_preds) + (0.4 * xgb_preds)\n",
    "ens16 = (0.1 * lasso_preds) + (0.6 * forest_preds) + (0.3 * xgb_preds)\n",
    "ens17 = (0.1 * lasso_preds) + (0.7 * forest_preds) + (0.2 * xgb_preds)\n",
    "ens18 = (0.1 * lasso_preds) + (0.8 * forest_preds) + (0.1 * xgb_preds)\n",
    "ens21 = (0.2 * lasso_preds) + (0.1 * forest_preds) + (0.7 * xgb_preds)\n",
    "ens22 = (0.2 * lasso_preds) + (0.2 * forest_preds) + (0.6 * xgb_preds)\n",
    "ens23 = (0.2 * lasso_preds) + (0.3 * forest_preds) + (0.5 * xgb_preds)\n",
    "ens24 = (0.2 * lasso_preds) + (0.4 * forest_preds) + (0.4 * xgb_preds)\n",
    "ens25 = (0.2 * lasso_preds) + (0.5 * forest_preds) + (0.3 * xgb_preds)\n",
    "ens26 = (0.2 * lasso_preds) + (0.6 * forest_preds) + (0.2 * xgb_preds)\n",
    "ens27 = (0.2 * lasso_preds) + (0.7 * forest_preds) + (0.1 * xgb_preds)\n",
    "ens31 = (0.3 * lasso_preds) + (0.1 * forest_preds) + (0.6 * xgb_preds)\n",
    "ens32 = (0.3 * lasso_preds) + (0.2 * forest_preds) + (0.5 * xgb_preds)\n",
    "ens33 = (0.3 * lasso_preds) + (0.3 * forest_preds) + (0.4 * xgb_preds)\n",
    "ens34 = (0.3 * lasso_preds) + (0.4 * forest_preds) + (0.3 * xgb_preds)\n",
    "ens35 = (0.3 * lasso_preds) + (0.5 * forest_preds) + (0.2 * xgb_preds)\n",
    "ens36 = (0.3 * lasso_preds) + (0.6 * forest_preds) + (0.1 * xgb_preds)\n",
    "ens41 = (0.4 * lasso_preds) + (0.1 * forest_preds) + (0.5 * xgb_preds)\n",
    "ens42 = (0.4 * lasso_preds) + (0.2 * forest_preds) + (0.4 * xgb_preds)\n",
    "ens43 = (0.4 * lasso_preds) + (0.3 * forest_preds) + (0.3 * xgb_preds)\n",
    "ens44 = (0.4 * lasso_preds) + (0.4 * forest_preds) + (0.2 * xgb_preds)\n",
    "ens45 = (0.4 * lasso_preds) + (0.5 * forest_preds) + (0.1 * xgb_preds)\n",
    "ens51 = (0.5 * lasso_preds) + (0.1 * forest_preds) + (0.4 * xgb_preds)\n",
    "ens52 = (0.5 * lasso_preds) + (0.2 * forest_preds) + (0.3 * xgb_preds)\n",
    "ens53 = (0.5 * lasso_preds) + (0.3 * forest_preds) + (0.2 * xgb_preds)\n",
    "ens54 = (0.5 * lasso_preds) + (0.4 * forest_preds) + (0.1 * xgb_preds)\n",
    "ens61 = (0.6 * lasso_preds) + (0.1 * forest_preds) + (0.3 * xgb_preds)\n",
    "ens62 = (0.6 * lasso_preds) + (0.2 * forest_preds) + (0.2 * xgb_preds)\n",
    "ens63 = (0.6 * lasso_preds) + (0.3 * forest_preds) + (0.1 * xgb_preds)\n",
    "ens71 = (0.7 * lasso_preds) + (0.1 * forest_preds) + (0.2 * xgb_preds)\n",
    "ens72 = (0.7 * lasso_preds) + (0.2 * forest_preds) + (0.1 * xgb_preds)\n",
    "ens81 = (0.8 * lasso_preds) + (0.1 * forest_preds) + (0.1 * xgb_preds)\n"
   ]
  },
  {
   "cell_type": "code",
   "execution_count": 4,
   "metadata": {
    "collapsed": false
   },
   "outputs": [
    {
     "name": "stdout",
     "output_type": "stream",
     "text": [
      "RMSE for ens01 0.108305313745\n",
      "RMSE for ens02 0.10909330509\n",
      "RMSE for ens03 0.110202125663\n",
      "RMSE for ens04 0.11161630981\n",
      "RMSE for ens05 0.113319791763\n",
      "RMSE for ens06 0.115296239797\n",
      "RMSE for ens07 0.117529375745\n",
      "RMSE for ens08 0.120003260657\n",
      "RMSE for ens09 0.122702535092\n",
      "RMSE for ens10 0.106246669025\n",
      "RMSE for ens20 0.104990545169\n",
      "RMSE for ens30 0.104095218993\n",
      "RMSE for ens40 0.103568954324\n",
      "RMSE for ens50 0.103416975796\n",
      "RMSE for ens60 0.103641207464\n",
      "RMSE for ens70 0.104240187771\n",
      "RMSE for ens80 0.105209171253\n",
      "RMSE for ens90 0.106540405566\n",
      "RMSE for ens101 0.121250931097\n",
      "RMSE for ens102 0.117378280429\n",
      "RMSE for ens103 0.114033901588\n",
      "RMSE for ens104 0.111257312566\n",
      "RMSE for ens105 0.109086258386\n",
      "RMSE for ens106 0.107554364698\n",
      "RMSE for ens107 0.106688741888\n",
      "RMSE for ens108 0.106507881477\n",
      "RMSE for ens109 0.107020206138\n",
      "RMSE for ens11 0.106710436704\n",
      "RMSE for ens12 0.107511698456\n",
      "RMSE for ens13 0.108635719264\n",
      "RMSE for ens14 0.11006676962\n",
      "RMSE for ens15 0.111788472338\n",
      "RMSE for ens16 0.113784159573\n",
      "RMSE for ens17 0.116037211813\n",
      "RMSE for ens18 0.118531358856\n",
      "RMSE for ens21 0.105463800887\n",
      "RMSE for ens22 0.106275875256\n",
      "RMSE for ens23 0.107411911114\n",
      "RMSE for ens24 0.108855997195\n",
      "RMSE for ens25 0.110591534993\n",
      "RMSE for ens26 0.112601614097\n",
      "RMSE for ens27 0.114869366651\n",
      "RMSE for ens31 0.10457607308\n",
      "RMSE for ens32 0.10539619427\n",
      "RMSE for ens33 0.106540683957\n",
      "RMSE for ens34 0.10799354419\n",
      "RMSE for ens35 0.109738058805\n",
      "RMSE for ens36 0.111757181599\n",
      "RMSE for ens41 0.104055325186\n",
      "RMSE for ens42 0.104880479299\n",
      "RMSE for ens43 0.106029565748\n",
      "RMSE for ens44 0.107486604523\n",
      "RMSE for ens45 0.109234875339\n",
      "RMSE for ens51 0.103906638794\n",
      "RMSE for ens52 0.104733640542\n",
      "RMSE for ens53 0.105883271524\n",
      "RMSE for ens54 0.107339679359\n",
      "RMSE for ens61 0.104131852713\n",
      "RMSE for ens62 0.104957433658\n",
      "RMSE for ens63 0.106103476008\n",
      "RMSE for ens71 0.104729482223\n",
      "RMSE for ens72 0.105550383482\n",
      "RMSE for ens81 0.105694819806\n"
     ]
    }
   ],
   "source": [
    "# Test ensembles\n",
    "print(\"RMSE for ens01 \" + str(np.sqrt(mean_squared_error(y_test, np.log1p(ens01)))))\n",
    "print(\"RMSE for ens02 \" + str(np.sqrt(mean_squared_error(y_test, np.log1p(ens02)))))\n",
    "print(\"RMSE for ens03 \" + str(np.sqrt(mean_squared_error(y_test, np.log1p(ens03)))))\n",
    "print(\"RMSE for ens04 \" + str(np.sqrt(mean_squared_error(y_test, np.log1p(ens04)))))\n",
    "print(\"RMSE for ens05 \" + str(np.sqrt(mean_squared_error(y_test, np.log1p(ens05)))))\n",
    "print(\"RMSE for ens06 \" + str(np.sqrt(mean_squared_error(y_test, np.log1p(ens06)))))\n",
    "print(\"RMSE for ens07 \" + str(np.sqrt(mean_squared_error(y_test, np.log1p(ens07)))))\n",
    "print(\"RMSE for ens08 \" + str(np.sqrt(mean_squared_error(y_test, np.log1p(ens08)))))\n",
    "print(\"RMSE for ens09 \" + str(np.sqrt(mean_squared_error(y_test, np.log1p(ens09)))))\n",
    "print(\"RMSE for ens10 \" + str(np.sqrt(mean_squared_error(y_test, np.log1p(ens10)))))\n",
    "print(\"RMSE for ens20 \" + str(np.sqrt(mean_squared_error(y_test, np.log1p(ens20)))))\n",
    "print(\"RMSE for ens30 \" + str(np.sqrt(mean_squared_error(y_test, np.log1p(ens30)))))\n",
    "print(\"RMSE for ens40 \" + str(np.sqrt(mean_squared_error(y_test, np.log1p(ens40)))))\n",
    "print(\"RMSE for ens50 \" + str(np.sqrt(mean_squared_error(y_test, np.log1p(ens50)))))\n",
    "print(\"RMSE for ens60 \" + str(np.sqrt(mean_squared_error(y_test, np.log1p(ens60)))))\n",
    "print(\"RMSE for ens70 \" + str(np.sqrt(mean_squared_error(y_test, np.log1p(ens70)))))\n",
    "print(\"RMSE for ens80 \" + str(np.sqrt(mean_squared_error(y_test, np.log1p(ens80)))))\n",
    "print(\"RMSE for ens90 \" + str(np.sqrt(mean_squared_error(y_test, np.log1p(ens90)))))\n",
    "print(\"RMSE for ens101 \" + str(np.sqrt(mean_squared_error(y_test, np.log1p(ens101)))))\n",
    "print(\"RMSE for ens102 \" + str(np.sqrt(mean_squared_error(y_test, np.log1p(ens102)))))\n",
    "print(\"RMSE for ens103 \" + str(np.sqrt(mean_squared_error(y_test, np.log1p(ens103)))))\n",
    "print(\"RMSE for ens104 \" + str(np.sqrt(mean_squared_error(y_test, np.log1p(ens104)))))\n",
    "print(\"RMSE for ens105 \" + str(np.sqrt(mean_squared_error(y_test, np.log1p(ens105)))))\n",
    "print(\"RMSE for ens106 \" + str(np.sqrt(mean_squared_error(y_test, np.log1p(ens106)))))\n",
    "print(\"RMSE for ens107 \" + str(np.sqrt(mean_squared_error(y_test, np.log1p(ens107)))))\n",
    "print(\"RMSE for ens108 \" + str(np.sqrt(mean_squared_error(y_test, np.log1p(ens108)))))\n",
    "print(\"RMSE for ens109 \" + str(np.sqrt(mean_squared_error(y_test, np.log1p(ens109)))))\n",
    "print(\"RMSE for ens11 \" + str(np.sqrt(mean_squared_error(y_test, np.log1p(ens11)))))\n",
    "print(\"RMSE for ens12 \" + str(np.sqrt(mean_squared_error(y_test, np.log1p(ens12)))))\n",
    "print(\"RMSE for ens13 \" + str(np.sqrt(mean_squared_error(y_test, np.log1p(ens13)))))\n",
    "print(\"RMSE for ens14 \" + str(np.sqrt(mean_squared_error(y_test, np.log1p(ens14)))))\n",
    "print(\"RMSE for ens15 \" + str(np.sqrt(mean_squared_error(y_test, np.log1p(ens15)))))\n",
    "print(\"RMSE for ens16 \" + str(np.sqrt(mean_squared_error(y_test, np.log1p(ens16)))))\n",
    "print(\"RMSE for ens17 \" + str(np.sqrt(mean_squared_error(y_test, np.log1p(ens17)))))\n",
    "print(\"RMSE for ens18 \" + str(np.sqrt(mean_squared_error(y_test, np.log1p(ens18)))))\n",
    "print(\"RMSE for ens21 \" + str(np.sqrt(mean_squared_error(y_test, np.log1p(ens21)))))\n",
    "print(\"RMSE for ens22 \" + str(np.sqrt(mean_squared_error(y_test, np.log1p(ens22)))))\n",
    "print(\"RMSE for ens23 \" + str(np.sqrt(mean_squared_error(y_test, np.log1p(ens23)))))\n",
    "print(\"RMSE for ens24 \" + str(np.sqrt(mean_squared_error(y_test, np.log1p(ens24)))))\n",
    "print(\"RMSE for ens25 \" + str(np.sqrt(mean_squared_error(y_test, np.log1p(ens25)))))\n",
    "print(\"RMSE for ens26 \" + str(np.sqrt(mean_squared_error(y_test, np.log1p(ens26)))))\n",
    "print(\"RMSE for ens27 \" + str(np.sqrt(mean_squared_error(y_test, np.log1p(ens27)))))\n",
    "print(\"RMSE for ens31 \" + str(np.sqrt(mean_squared_error(y_test, np.log1p(ens31)))))\n",
    "print(\"RMSE for ens32 \" + str(np.sqrt(mean_squared_error(y_test, np.log1p(ens32)))))\n",
    "print(\"RMSE for ens33 \" + str(np.sqrt(mean_squared_error(y_test, np.log1p(ens33)))))\n",
    "print(\"RMSE for ens34 \" + str(np.sqrt(mean_squared_error(y_test, np.log1p(ens34)))))\n",
    "print(\"RMSE for ens35 \" + str(np.sqrt(mean_squared_error(y_test, np.log1p(ens35)))))\n",
    "print(\"RMSE for ens36 \" + str(np.sqrt(mean_squared_error(y_test, np.log1p(ens36)))))\n",
    "print(\"RMSE for ens41 \" + str(np.sqrt(mean_squared_error(y_test, np.log1p(ens41)))))\n",
    "print(\"RMSE for ens42 \" + str(np.sqrt(mean_squared_error(y_test, np.log1p(ens42)))))\n",
    "print(\"RMSE for ens43 \" + str(np.sqrt(mean_squared_error(y_test, np.log1p(ens43)))))\n",
    "print(\"RMSE for ens44 \" + str(np.sqrt(mean_squared_error(y_test, np.log1p(ens44)))))\n",
    "print(\"RMSE for ens45 \" + str(np.sqrt(mean_squared_error(y_test, np.log1p(ens45)))))\n",
    "print(\"RMSE for ens51 \" + str(np.sqrt(mean_squared_error(y_test, np.log1p(ens51)))))\n",
    "print(\"RMSE for ens52 \" + str(np.sqrt(mean_squared_error(y_test, np.log1p(ens52)))))\n",
    "print(\"RMSE for ens53 \" + str(np.sqrt(mean_squared_error(y_test, np.log1p(ens53)))))\n",
    "print(\"RMSE for ens54 \" + str(np.sqrt(mean_squared_error(y_test, np.log1p(ens54)))))\n",
    "print(\"RMSE for ens61 \" + str(np.sqrt(mean_squared_error(y_test, np.log1p(ens61)))))\n",
    "print(\"RMSE for ens62 \" + str(np.sqrt(mean_squared_error(y_test, np.log1p(ens62)))))\n",
    "print(\"RMSE for ens63 \" + str(np.sqrt(mean_squared_error(y_test, np.log1p(ens63)))))\n",
    "print(\"RMSE for ens71 \" + str(np.sqrt(mean_squared_error(y_test, np.log1p(ens71)))))\n",
    "print(\"RMSE for ens72 \" + str(np.sqrt(mean_squared_error(y_test, np.log1p(ens72)))))\n",
    "print(\"RMSE for ens81 \" + str(np.sqrt(mean_squared_error(y_test, np.log1p(ens81)))))\n"
   ]
  },
  {
   "cell_type": "code",
   "execution_count": 5,
   "metadata": {
    "collapsed": false
   },
   "outputs": [
    {
     "name": "stdout",
     "output_type": "stream",
     "text": [
      "Best is ens40 = (0.4 * lasso_preds) + (0.6 * xgb_preds)\n"
     ]
    }
   ],
   "source": [
    "print(\"Best is ens50 = (0.5 * lasso_preds) + (0.5 * xgb_preds)\")"
   ]
  },
  {
   "cell_type": "code",
   "execution_count": 9,
   "metadata": {
    "collapsed": true
   },
   "outputs": [],
   "source": [
    "# Combine predictions around the best one so far\n",
    "ens1 = (0.41 * lasso_preds) + (0.59 * xgb_preds)\n",
    "ens2 = (0.42 * lasso_preds) + (0.58 * xgb_preds)\n",
    "ens3 = (0.43 * lasso_preds) + (0.57 * xgb_preds)\n",
    "ens4 = (0.44 * lasso_preds) + (0.56 * xgb_preds)\n",
    "ens5 = (0.45 * lasso_preds) + (0.55 * xgb_preds)\n",
    "ens6 = (0.46 * lasso_preds) + (0.54 * xgb_preds)\n",
    "ens7 = (0.47 * lasso_preds) + (0.53 * xgb_preds)\n",
    "ens8 = (0.48 * lasso_preds) + (0.52 * xgb_preds)\n",
    "ens9 = (0.49 * lasso_preds) + (0.51 * xgb_preds)\n",
    "ens10 = (0.50 * lasso_preds) + (0.50 * xgb_preds)\n",
    "ens11 = (0.51 * lasso_preds) + (0.49 * xgb_preds)\n",
    "ens12 = (0.52 * lasso_preds) + (0.48 * xgb_preds)\n",
    "ens13 = (0.53 * lasso_preds) + (0.47 * xgb_preds)\n",
    "ens14 = (0.54 * lasso_preds) + (0.46 * xgb_preds)\n",
    "ens15 = (0.55 * lasso_preds) + (0.45 * xgb_preds)\n",
    "ens16 = (0.56 * lasso_preds) + (0.44 * xgb_preds)\n",
    "ens17 = (0.57 * lasso_preds) + (0.43 * xgb_preds)\n",
    "ens18 = (0.58 * lasso_preds) + (0.42 * xgb_preds)\n",
    "ens19 = (0.59 * lasso_preds) + (0.41 * xgb_preds)\n"
   ]
  },
  {
   "cell_type": "code",
   "execution_count": 10,
   "metadata": {
    "collapsed": false
   },
   "outputs": [
    {
     "name": "stdout",
     "output_type": "stream",
     "text": [
      "RMSE for ens1 0.103536855404\n",
      "RMSE for ens2 0.103508505541\n",
      "RMSE for ens3 0.10348390785\n",
      "RMSE for ens4 0.103463065114\n",
      "RMSE for ens5 0.103445979775\n",
      "RMSE for ens6 0.103432653939\n",
      "RMSE for ens7 0.103423089369\n",
      "RMSE for ens8 0.10341728749\n",
      "RMSE for ens9 0.103415249385\n",
      "RMSE for ens10 0.103416975796\n",
      "RMSE for ens11 0.103422467123\n",
      "RMSE for ens12 0.103431723425\n",
      "RMSE for ens13 0.103444744418\n",
      "RMSE for ens14 0.103461529477\n",
      "RMSE for ens15 0.103482077638\n",
      "RMSE for ens16 0.103506387596\n",
      "RMSE for ens17 0.103534457707\n",
      "RMSE for ens18 0.10356628599\n",
      "RMSE for ens19 0.103601870126\n"
     ]
    }
   ],
   "source": [
    "# Test ensembles again\n",
    "print(\"RMSE for ens1 \" + str(np.sqrt(mean_squared_error(y_test, np.log1p(ens1)))))\n",
    "print(\"RMSE for ens2 \" + str(np.sqrt(mean_squared_error(y_test, np.log1p(ens2)))))\n",
    "print(\"RMSE for ens3 \" + str(np.sqrt(mean_squared_error(y_test, np.log1p(ens3)))))\n",
    "print(\"RMSE for ens4 \" + str(np.sqrt(mean_squared_error(y_test, np.log1p(ens4)))))\n",
    "print(\"RMSE for ens5 \" + str(np.sqrt(mean_squared_error(y_test, np.log1p(ens5)))))\n",
    "print(\"RMSE for ens6 \" + str(np.sqrt(mean_squared_error(y_test, np.log1p(ens6)))))\n",
    "print(\"RMSE for ens7 \" + str(np.sqrt(mean_squared_error(y_test, np.log1p(ens7)))))\n",
    "print(\"RMSE for ens8 \" + str(np.sqrt(mean_squared_error(y_test, np.log1p(ens8)))))\n",
    "print(\"RMSE for ens9 \" + str(np.sqrt(mean_squared_error(y_test, np.log1p(ens9)))))\n",
    "print(\"RMSE for ens10 \" + str(np.sqrt(mean_squared_error(y_test, np.log1p(ens10)))))\n",
    "print(\"RMSE for ens11 \" + str(np.sqrt(mean_squared_error(y_test, np.log1p(ens11)))))\n",
    "print(\"RMSE for ens12 \" + str(np.sqrt(mean_squared_error(y_test, np.log1p(ens12)))))\n",
    "print(\"RMSE for ens13 \" + str(np.sqrt(mean_squared_error(y_test, np.log1p(ens13)))))\n",
    "print(\"RMSE for ens14 \" + str(np.sqrt(mean_squared_error(y_test, np.log1p(ens14)))))\n",
    "print(\"RMSE for ens15 \" + str(np.sqrt(mean_squared_error(y_test, np.log1p(ens15)))))\n",
    "print(\"RMSE for ens16 \" + str(np.sqrt(mean_squared_error(y_test, np.log1p(ens16)))))\n",
    "print(\"RMSE for ens17 \" + str(np.sqrt(mean_squared_error(y_test, np.log1p(ens17)))))\n",
    "print(\"RMSE for ens18 \" + str(np.sqrt(mean_squared_error(y_test, np.log1p(ens18)))))\n",
    "print(\"RMSE for ens19 \" + str(np.sqrt(mean_squared_error(y_test, np.log1p(ens19)))))"
   ]
  },
  {
   "cell_type": "code",
   "execution_count": 8,
   "metadata": {
    "collapsed": false
   },
   "outputs": [
    {
     "name": "stdout",
     "output_type": "stream",
     "text": [
      "Best is ens9 = (0.39 * lasso_preds) + (0.61 * xgb_preds)\n"
     ]
    }
   ],
   "source": [
    "print(\"Best is ens9 = (0.49 * lasso_preds) + (0.51 * xgb_preds)\")"
   ]
  }
 ],
 "metadata": {
  "anaconda-cloud": {},
  "kernelspec": {
   "display_name": "Python [Root]",
   "language": "python",
   "name": "Python [Root]"
  },
  "language_info": {
   "codemirror_mode": {
    "name": "ipython",
    "version": 3
   },
   "file_extension": ".py",
   "mimetype": "text/x-python",
   "name": "python",
   "nbconvert_exporter": "python",
   "pygments_lexer": "ipython3",
   "version": "3.5.2"
  }
 },
 "nbformat": 4,
 "nbformat_minor": 0
}
