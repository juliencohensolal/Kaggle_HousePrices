{
 "cells": [
  {
   "cell_type": "code",
   "execution_count": 1,
   "metadata": {
    "collapsed": true
   },
   "outputs": [],
   "source": [
    "# Imports\n",
    "import pandas as pd\n",
    "import datetime\n",
    "from IPython.display import display\n",
    "\n",
    "# Definitions\n",
    "pd.set_option('display.float_format', lambda x: '%.3f' % x)\n",
    "%matplotlib inline\n",
    "njobs = 4\n",
    "randomState = 0"
   ]
  },
  {
   "cell_type": "code",
   "execution_count": 2,
   "metadata": {
    "collapsed": false
   },
   "outputs": [],
   "source": [
    "# Load predictions\n",
    "lasso = pd.read_csv(\"preds/elasticLR_NoMsZoning_2016-10-07-10-34.csv\")\n",
    "forest = pd.read_csv(\"preds/forest_2016-10-07-11-09.csv\")\n",
    "xgboost = pd.read_csv(\"preds/xgboost_2016-10-07-11-11.csv\")\n",
    "testIDs = pd.read_csv(\"cleanData/testIDs.csv\", header = None)\n",
    "lasso_preds = lasso.SalePrice\n",
    "forest_preds = forest.SalePrice\n",
    "xgb_preds = xgboost.SalePrice\n",
    "testIDs = testIDs[0]"
   ]
  },
  {
   "cell_type": "code",
   "execution_count": 3,
   "metadata": {
    "collapsed": true
   },
   "outputs": [],
   "source": [
    "# Combine predictions\n",
    "ens = (0.49 * lasso_preds) + (0.51 * xgb_preds)\n",
    "#ens = (0.72 * lasso_preds) + (0.28 * forest_preds)"
   ]
  },
  {
   "cell_type": "code",
   "execution_count": 4,
   "metadata": {
    "collapsed": false
   },
   "outputs": [],
   "source": [
    "# Write predictions in CSV file\n",
    "now = datetime.datetime.now()\n",
    "ens_name = \"preds/ens_\" + str(now.strftime(\"%Y-%m-%d-%H-%M\")) + \".csv\"\n",
    "preds = pd.DataFrame({\"id\": testIDs, \"SalePrice\": ens}, columns = [\"id\", \"SalePrice\"])\n",
    "preds.to_csv(ens_name, index = False)"
   ]
  },
  {
   "cell_type": "code",
   "execution_count": null,
   "metadata": {
    "collapsed": true
   },
   "outputs": [],
   "source": []
  }
 ],
 "metadata": {
  "anaconda-cloud": {},
  "kernelspec": {
   "display_name": "Python [Root]",
   "language": "python",
   "name": "Python [Root]"
  },
  "language_info": {
   "codemirror_mode": {
    "name": "ipython",
    "version": 3
   },
   "file_extension": ".py",
   "mimetype": "text/x-python",
   "name": "python",
   "nbconvert_exporter": "python",
   "pygments_lexer": "ipython3",
   "version": "3.5.2"
  }
 },
 "nbformat": 4,
 "nbformat_minor": 0
}
