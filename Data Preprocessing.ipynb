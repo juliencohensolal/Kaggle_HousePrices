{
 "cells": [
  {
   "cell_type": "code",
   "execution_count": 1,
   "metadata": {
    "collapsed": true
   },
   "outputs": [],
   "source": [
    "# Imports\n",
    "import pandas as pd\n",
    "import numpy as np\n",
    "from sklearn.model_selection import train_test_split\n",
    "from sklearn.preprocessing import StandardScaler\n",
    "from scipy.stats import skew\n",
    "from IPython.display import display\n",
    "import matplotlib.pyplot as plt\n",
    "import seaborn as sns\n",
    "\n",
    "# Definitions\n",
    "pd.set_option('display.float_format', lambda x: '%.3f' % x)\n",
    "%matplotlib inline\n",
    "njobs = 4\n",
    "randomState = 0"
   ]
  },
  {
   "cell_type": "code",
   "execution_count": 2,
   "metadata": {
    "collapsed": false
   },
   "outputs": [
    {
     "name": "stdout",
     "output_type": "stream",
     "text": [
      "train : (1460, 81)\n",
      "test : (1459, 80)\n",
      "There are 0 duplicate IDs for 1460 total entries\n"
     ]
    }
   ],
   "source": [
    "# Get data\n",
    "train = pd.read_csv(\"rawData/train.csv\")\n",
    "test = pd.read_csv(\"rawData/test.csv\")\n",
    "print(\"train : \" + str(train.shape))\n",
    "print(\"test : \" + str(test.shape))\n",
    "\n",
    "# Check for duplicates\n",
    "idsUnique = len(set(train.Id))\n",
    "idsTotal = train.shape[0]\n",
    "idsDupli = idsTotal - idsUnique\n",
    "print(\"There are \" + str(idsDupli) + \" duplicate IDs for \" + str(idsTotal) + \" total entries\")\n",
    "\n",
    "# Drop Id column\n",
    "testIDs = test.Id\n",
    "train.drop(\"Id\", axis = 1, inplace = True)\n",
    "test.drop(\"Id\", axis = 1, inplace = True)"
   ]
  },
  {
   "cell_type": "code",
   "execution_count": 3,
   "metadata": {
    "collapsed": false
   },
   "outputs": [
    {
     "data": {
      "image/png": "[encoded data removed]",
      "text/plain": [
       "<matplotlib.figure.Figure at 0x153019634e0>"
      ]
     },
     "metadata": {},
     "output_type": "display_data"
    },
    {
     "name": "stdout",
     "output_type": "stream",
     "text": [
      "There seems to be 2 extreme outliers on the bottom right, really large houses that sold for really cheap\n",
      "More generally, the author of the dataset recommends removing 'any houses with more than 4000 square feet' from the dataset (ref : https://ww2.amstat.org/publications/jse/v19n3/decock.pdf)\n"
     ]
    }
   ],
   "source": [
    "# Looking for outliers, as indicated in https://ww2.amstat.org/publications/jse/v19n3/decock.pdf\n",
    "plt.scatter(train.GrLivArea, train.SalePrice, c = \"blue\", marker = \"s\")\n",
    "plt.title(\"Looking for outliers\")\n",
    "plt.xlabel(\"GrLivArea\")\n",
    "plt.ylabel(\"SalePrice\")\n",
    "plt.show()\n",
    "\n",
    "print(\"There seems to be 2 extreme outliers on the bottom right, really large houses that sold for really cheap\")\n",
    "print(\"More generally, the author of the dataset recommends removing 'any houses with more than 4000 square feet' \\\n",
    "from the dataset (ref : https://ww2.amstat.org/publications/jse/v19n3/decock.pdf)\")\n",
    "train = train[train.GrLivArea < 4000]"
   ]
  },
  {
   "cell_type": "code",
   "execution_count": 4,
   "metadata": {
    "collapsed": true
   },
   "outputs": [],
   "source": [
    "# Log transform the target for official scoring\n",
    "# Taking logs means that errors in predicting expensive houses and cheap houses will affect the result equally\n",
    "train.SalePrice = np.log1p(train.SalePrice)\n",
    "y_train = train.SalePrice"
   ]
  },
  {
   "cell_type": "code",
   "execution_count": 5,
   "metadata": {
    "collapsed": true
   },
   "outputs": [],
   "source": [
    "# Handle missing values for features where median/mean or most common value doesn't make sense\n",
    "alldata = pd.concat([train, test], axis = 0)\n",
    "\n",
    "# Alley : data description says NA means \"no alley access\"\n",
    "alldata.loc[:, \"Alley\"] = alldata.loc[:, \"Alley\"].fillna(\"None\")\n",
    "# BedroomAbvGr : NA most likely means 0\n",
    "alldata.loc[:, \"BedroomAbvGr\"] = alldata.loc[:, \"BedroomAbvGr\"].fillna(0)\n",
    "# BsmtQual etc : data description says NA for basement features is \"no basement\"\n",
    "alldata.loc[:, \"BsmtQual\"] = alldata.loc[:, \"BsmtQual\"].fillna(\"No\")\n",
    "alldata.loc[:, \"BsmtCond\"] = alldata.loc[:, \"BsmtCond\"].fillna(\"No\")\n",
    "alldata.loc[:, \"BsmtExposure\"] = alldata.loc[:, \"BsmtExposure\"].fillna(\"No\")\n",
    "alldata.loc[:, \"BsmtFinType1\"] = alldata.loc[:, \"BsmtFinType1\"].fillna(\"No\")\n",
    "alldata.loc[:, \"BsmtFinType2\"] = alldata.loc[:, \"BsmtFinType2\"].fillna(\"No\")\n",
    "alldata.loc[:, \"BsmtFullBath\"] = alldata.loc[:, \"BsmtFullBath\"].fillna(0)\n",
    "alldata.loc[:, \"BsmtHalfBath\"] = alldata.loc[:, \"BsmtHalfBath\"].fillna(0)\n",
    "alldata.loc[:, \"BsmtUnfSF\"] = alldata.loc[:, \"BsmtUnfSF\"].fillna(0)\n",
    "# CentralAir : NA most likely means No\n",
    "alldata.loc[:, \"CentralAir\"] = alldata.loc[:, \"CentralAir\"].fillna(\"N\")\n",
    "# Condition : NA most likely means Normal\n",
    "alldata.loc[:, \"Condition1\"] = alldata.loc[:, \"Condition1\"].fillna(\"Norm\")\n",
    "alldata.loc[:, \"Condition2\"] = alldata.loc[:, \"Condition2\"].fillna(\"Norm\")\n",
    "# EnclosedPorch : NA most likely means no enclosed porch\n",
    "alldata.loc[:, \"EnclosedPorch\"] = alldata.loc[:, \"EnclosedPorch\"].fillna(0)\n",
    "# External stuff : NA most likely means average\n",
    "alldata.loc[:, \"ExterCond\"] = alldata.loc[:, \"ExterCond\"].fillna(\"TA\")\n",
    "alldata.loc[:, \"ExterQual\"] = alldata.loc[:, \"ExterQual\"].fillna(\"TA\")\n",
    "# Fence : data description says NA means \"no fence\"\n",
    "alldata.loc[:, \"Fence\"] = alldata.loc[:, \"Fence\"].fillna(\"No\")\n",
    "# FireplaceQu : data description says NA means \"no fireplace\"\n",
    "alldata.loc[:, \"FireplaceQu\"] = alldata.loc[:, \"FireplaceQu\"].fillna(\"No\")\n",
    "alldata.loc[:, \"Fireplaces\"] = alldata.loc[:, \"Fireplaces\"].fillna(0)\n",
    "# Functional : data description says NA means typical\n",
    "alldata.loc[:, \"Functional\"] = alldata.loc[:, \"Functional\"].fillna(\"Typ\")\n",
    "# GarageType etc : data description says NA for garage features is \"no garage\"\n",
    "alldata.loc[:, \"GarageType\"] = alldata.loc[:, \"GarageType\"].fillna(\"No\")\n",
    "alldata.loc[:, \"GarageFinish\"] = alldata.loc[:, \"GarageFinish\"].fillna(\"No\")\n",
    "alldata.loc[:, \"GarageQual\"] = alldata.loc[:, \"GarageQual\"].fillna(\"No\")\n",
    "alldata.loc[:, \"GarageCond\"] = alldata.loc[:, \"GarageCond\"].fillna(\"No\")\n",
    "alldata.loc[:, \"GarageArea\"] = alldata.loc[:, \"GarageArea\"].fillna(0)\n",
    "alldata.loc[:, \"GarageCars\"] = alldata.loc[:, \"GarageCars\"].fillna(0)\n",
    "# HalfBath : NA most likely means no half baths above grade\n",
    "alldata.loc[:, \"HalfBath\"] = alldata.loc[:, \"HalfBath\"].fillna(0)\n",
    "# HeatingQC : NA most likely means typical\n",
    "alldata.loc[:, \"HeatingQC\"] = alldata.loc[:, \"HeatingQC\"].fillna(\"TA\")\n",
    "# KitchenAbvGr : NA most likely means 0\n",
    "alldata.loc[:, \"KitchenAbvGr\"] = alldata.loc[:, \"KitchenAbvGr\"].fillna(0)\n",
    "# KitchenQual : NA most likely means typical\n",
    "alldata.loc[:, \"KitchenQual\"] = alldata.loc[:, \"KitchenQual\"].fillna(\"TA\")\n",
    "# LotFrontage : NA most likely means no lot frontage\n",
    "alldata.loc[:, \"LotFrontage\"] = alldata.loc[:, \"LotFrontage\"].fillna(0)\n",
    "# LotShape : NA most likely means regular\n",
    "alldata.loc[:, \"LotShape\"] = alldata.loc[:, \"LotShape\"].fillna(\"Reg\")\n",
    "# MasVnrType : NA most likely means no veneer\n",
    "alldata.loc[:, \"MasVnrType\"] = alldata.loc[:, \"MasVnrType\"].fillna(\"None\")\n",
    "alldata.loc[:, \"MasVnrArea\"] = alldata.loc[:, \"MasVnrArea\"].fillna(0)\n",
    "# MiscFeature : data description says NA means \"no misc feature\"\n",
    "alldata.loc[:, \"MiscFeature\"] = alldata.loc[:, \"MiscFeature\"].fillna(\"No\")\n",
    "alldata.loc[:, \"MiscVal\"] = alldata.loc[:, \"MiscVal\"].fillna(0)\n",
    "# OpenPorchSF : NA most likely means no open porch\n",
    "alldata.loc[:, \"OpenPorchSF\"] = alldata.loc[:, \"OpenPorchSF\"].fillna(0)\n",
    "# PavedDrive : NA most likely means not paved\n",
    "alldata.loc[:, \"PavedDrive\"] = alldata.loc[:, \"PavedDrive\"].fillna(\"N\")\n",
    "# PoolQC : data description says NA means \"no pool\"\n",
    "alldata.loc[:, \"PoolQC\"] = alldata.loc[:, \"PoolQC\"].fillna(\"No\")\n",
    "alldata.loc[:, \"PoolArea\"] = alldata.loc[:, \"PoolArea\"].fillna(0)\n",
    "# SaleCondition : NA most likely means normal sale\n",
    "alldata.loc[:, \"SaleCondition\"] = alldata.loc[:, \"SaleCondition\"].fillna(\"Normal\")\n",
    "# ScreenPorch : NA most likely means no screen porch\n",
    "alldata.loc[:, \"ScreenPorch\"] = alldata.loc[:, \"ScreenPorch\"].fillna(0)\n",
    "# TotRmsAbvGrd : NA most likely means 0\n",
    "alldata.loc[:, \"TotRmsAbvGrd\"] = alldata.loc[:, \"TotRmsAbvGrd\"].fillna(0)\n",
    "# Utilities : NA most likely means all public utilities\n",
    "alldata.loc[:, \"Utilities\"] = alldata.loc[:, \"Utilities\"].fillna(\"AllPub\")\n",
    "# WoodDeckSF : NA most likely means no wood deck\n",
    "alldata.loc[:, \"WoodDeckSF\"] = alldata.loc[:, \"WoodDeckSF\"].fillna(0)"
   ]
  },
  {
   "cell_type": "code",
   "execution_count": 6,
   "metadata": {
    "collapsed": true
   },
   "outputs": [],
   "source": [
    "# Some numerical features are actually really categories\n",
    "alldata = alldata.replace({\"MSSubClass\" : {20 : \"SC20\", 30 : \"SC30\", 40 : \"SC40\", 45 : \"SC45\", 50 : \"SC50\", 60 : \"SC60\",\n",
    "                                           70 : \"SC70\", 75 : \"SC75\", 80 : \"SC80\", 85 : \"SC85\", 90 : \"SC90\", 120 : \"SC120\", \n",
    "                                           150 : \"SC150\", 160 : \"SC160\", 180 : \"SC180\", 190 : \"SC190\"},\n",
    "                           \"MoSold\" : {1 : \"Jan\", 2 : \"Feb\", 3 : \"Mar\", 4 : \"Apr\", 5 : \"May\", 6 : \"Jun\",\n",
    "                                       7 : \"Jul\", 8 : \"Aug\", 9 : \"Sep\", 10 : \"Oct\", 11 : \"Nov\", 12 : \"Dec\"}\n",
    "                          })"
   ]
  },
  {
   "cell_type": "code",
   "execution_count": 7,
   "metadata": {
    "collapsed": true
   },
   "outputs": [],
   "source": [
    "# Encode some categorical features as ordered numbers when there is information in the order\n",
    "alldata = alldata.replace({\"Alley\" : {\"Grvl\" : 1, \"Pave\" : 2},\n",
    "                           \"BsmtCond\" : {\"No\" : 0, \"Po\" : 1, \"Fa\" : 2, \"TA\" : 3, \"Gd\" : 4, \"Ex\" : 5},\n",
    "                           \"BsmtExposure\" : {\"No\" : 0, \"Mn\" : 1, \"Av\": 2, \"Gd\" : 3},\n",
    "                           \"BsmtFinType1\" : {\"No\" : 0, \"Unf\" : 1, \"LwQ\": 2, \"Rec\" : 3, \"BLQ\" : 4, \"ALQ\" : 5, \"GLQ\" : 6},\n",
    "                           \"BsmtFinType2\" : {\"No\" : 0, \"Unf\" : 1, \"LwQ\": 2, \"Rec\" : 3, \"BLQ\" : 4, \"ALQ\" : 5, \"GLQ\" : 6},\n",
    "                           \"BsmtQual\" : {\"No\" : 0, \"Po\" : 1, \"Fa\" : 2, \"TA\": 3, \"Gd\" : 4, \"Ex\" : 5},\n",
    "                           \"ExterCond\" : {\"Po\" : 1, \"Fa\" : 2, \"TA\": 3, \"Gd\": 4, \"Ex\" : 5},\n",
    "                           \"ExterQual\" : {\"Po\" : 1, \"Fa\" : 2, \"TA\": 3, \"Gd\": 4, \"Ex\" : 5},\n",
    "                           \"FireplaceQu\" : {\"No\" : 0, \"Po\" : 1, \"Fa\" : 2, \"TA\" : 3, \"Gd\" : 4, \"Ex\" : 5},\n",
    "                           \"Functional\" : {\"Sal\" : 1, \"Sev\" : 2, \"Maj2\" : 3, \"Maj1\" : 4, \"Mod\": 5, \"Min2\" : 6, \n",
    "                                           \"Min1\" : 7, \"Typ\" : 8},\n",
    "                           \"GarageCond\" : {\"No\" : 0, \"Po\" : 1, \"Fa\" : 2, \"TA\" : 3, \"Gd\" : 4, \"Ex\" : 5},\n",
    "                           \"GarageQual\" : {\"No\" : 0, \"Po\" : 1, \"Fa\" : 2, \"TA\" : 3, \"Gd\" : 4, \"Ex\" : 5},\n",
    "                           \"HeatingQC\" : {\"Po\" : 1, \"Fa\" : 2, \"TA\" : 3, \"Gd\" : 4, \"Ex\" : 5},\n",
    "                           \"KitchenQual\" : {\"Po\" : 1, \"Fa\" : 2, \"TA\" : 3, \"Gd\" : 4, \"Ex\" : 5},\n",
    "                           \"LandSlope\" : {\"Sev\" : 1, \"Mod\" : 2, \"Gtl\" : 3},\n",
    "                           \"LotShape\" : {\"IR3\" : 1, \"IR2\" : 2, \"IR1\" : 3, \"Reg\" : 4},\n",
    "                           \"PavedDrive\" : {\"N\" : 0, \"P\" : 1, \"Y\" : 2},\n",
    "                           \"PoolQC\" : {\"No\" : 0, \"Fa\" : 1, \"TA\" : 2, \"Gd\" : 3, \"Ex\" : 4},\n",
    "                           \"Street\" : {\"Grvl\" : 1, \"Pave\" : 2},\n",
    "                           \"Utilities\" : {\"ELO\" : 1, \"NoSeWa\" : 2, \"NoSewr\" : 3, \"AllPub\" : 4}}\n",
    "                     )"
   ]
  },
  {
   "cell_type": "code",
   "execution_count": 8,
   "metadata": {
    "collapsed": true
   },
   "outputs": [],
   "source": [
    "# Create new features\n",
    "# 1* Simplifications of existing features\n",
    "alldata[\"SimplOverallQual\"] = alldata.OverallQual.replace({1 : 1, 2 : 1, 3 : 1, # bad\n",
    "                                                           4 : 2, 5 : 2, 6 : 2, # average\n",
    "                                                           7 : 3, 8 : 3, 9 : 3, 10 : 3 # good\n",
    "                                                          })\n",
    "alldata[\"SimplOverallCond\"] = alldata.OverallCond.replace({1 : 1, 2 : 1, 3 : 1, # bad\n",
    "                                                           4 : 2, 5 : 2, 6 : 2, # average\n",
    "                                                           7 : 3, 8 : 3, 9 : 3, 10 : 3 # good\n",
    "                                                          })\n",
    "alldata[\"SimplPoolQC\"] = alldata.PoolQC.replace({1 : 1, 2 : 1, # average\n",
    "                                                 3 : 2, 4 : 2 # good\n",
    "                                                })\n",
    "alldata[\"SimplGarageCond\"] = alldata.GarageCond.replace({1 : 1, # bad\n",
    "                                                         2 : 1, 3 : 1, # average\n",
    "                                                         4 : 2, 5 : 2 # good\n",
    "                                                        })\n",
    "alldata[\"SimplGarageQual\"] = alldata.GarageQual.replace({1 : 1, # bad\n",
    "                                                         2 : 1, 3 : 1, # average\n",
    "                                                         4 : 2, 5 : 2 # good\n",
    "                                                        })\n",
    "alldata[\"SimplFireplaceQu\"] = alldata.FireplaceQu.replace({1 : 1, # bad\n",
    "                                                           2 : 1, 3 : 1, # average\n",
    "                                                           4 : 2, 5 : 2 # good\n",
    "                                                          })\n",
    "alldata[\"SimplFireplaceQu\"] = alldata.FireplaceQu.replace({1 : 1, # bad\n",
    "                                                           2 : 1, 3 : 1, # average\n",
    "                                                           4 : 2, 5 : 2 # good\n",
    "                                                          })\n",
    "alldata[\"SimplFunctional\"] = alldata.Functional.replace({1 : 1, 2 : 1, # bad\n",
    "                                                         3 : 2, 4 : 2, # major\n",
    "                                                         5 : 3, 6 : 3, 7 : 3, # minor\n",
    "                                                         8 : 4 # typical\n",
    "                                                        })\n",
    "alldata[\"SimplKitchenQual\"] = alldata.KitchenQual.replace({1 : 1, # bad\n",
    "                                                           2 : 1, 3 : 1, # average\n",
    "                                                           4 : 2, 5 : 2 # good\n",
    "                                                          })\n",
    "alldata[\"SimplHeatingQC\"] = alldata.HeatingQC.replace({1 : 1, # bad\n",
    "                                                       2 : 1, 3 : 1, # average\n",
    "                                                       4 : 2, 5 : 2 # good\n",
    "                                                      })\n",
    "alldata[\"SimplBsmtFinType1\"] = alldata.BsmtFinType1.replace({1 : 1, # unfinished\n",
    "                                                             2 : 1, 3 : 1, # rec room\n",
    "                                                             4 : 2, 5 : 2, 6 : 2 # living quarters\n",
    "                                                            })\n",
    "alldata[\"SimplBsmtFinType2\"] = alldata.BsmtFinType2.replace({1 : 1, # unfinished\n",
    "                                                             2 : 1, 3 : 1, # rec room\n",
    "                                                             4 : 2, 5 : 2, 6 : 2 # living quarters\n",
    "                                                            })\n",
    "alldata[\"SimplBsmtCond\"] = alldata.BsmtCond.replace({1 : 1, # bad\n",
    "                                                     2 : 1, 3 : 1, # average\n",
    "                                                     4 : 2, 5 : 2 # good\n",
    "                                                    })\n",
    "alldata[\"SimplBsmtQual\"] = alldata.BsmtQual.replace({1 : 1, # bad\n",
    "                                                     2 : 1, 3 : 1, # average\n",
    "                                                     4 : 2, 5 : 2 # good\n",
    "                                                    })\n",
    "alldata[\"SimplExterCond\"] = alldata.ExterCond.replace({1 : 1, # bad\n",
    "                                                       2 : 1, 3 : 1, # average\n",
    "                                                       4 : 2, 5 : 2 # good\n",
    "                                                      })\n",
    "alldata[\"SimplExterQual\"] = alldata.ExterQual.replace({1 : 1, # bad\n",
    "                                                       2 : 1, 3 : 1, # average\n",
    "                                                       4 : 2, 5 : 2 # good\n",
    "                                                      })\n",
    "\n",
    "# 2* Combinations of existing features\n",
    "# Overall quality of the house\n",
    "alldata[\"OverallGrade\"] = alldata[\"OverallQual\"] * alldata[\"OverallCond\"]\n",
    "# Overall quality of the garage\n",
    "alldata[\"GarageGrade\"] = alldata[\"GarageQual\"] * alldata[\"GarageCond\"]\n",
    "# Overall quality of the exterior\n",
    "alldata[\"ExterGrade\"] = alldata[\"ExterQual\"] * alldata[\"ExterCond\"]\n",
    "# Overall kitchen score\n",
    "alldata[\"KitchenScore\"] = alldata[\"KitchenAbvGr\"] * alldata[\"KitchenQual\"]\n",
    "# Overall fireplace score\n",
    "alldata[\"FireplaceScore\"] = alldata[\"Fireplaces\"] * alldata[\"FireplaceQu\"]\n",
    "# Overall garage score\n",
    "alldata[\"GarageScore\"] = alldata[\"GarageArea\"] * alldata[\"GarageQual\"]\n",
    "# Overall pool score\n",
    "alldata[\"PoolScore\"] = alldata[\"PoolArea\"] * alldata[\"PoolQC\"]\n",
    "# Simplified overall quality of the house\n",
    "alldata[\"SimplOverallGrade\"] = alldata[\"SimplOverallQual\"] * alldata[\"SimplOverallCond\"]\n",
    "# Simplified overall quality of the exterior\n",
    "alldata[\"SimplExterGrade\"] = alldata[\"SimplExterQual\"] * alldata[\"SimplExterCond\"]\n",
    "# Simplified overall pool score\n",
    "alldata[\"SimplPoolScore\"] = alldata[\"PoolArea\"] * alldata[\"SimplPoolQC\"]\n",
    "# Simplified overall garage score\n",
    "alldata[\"SimplGarageScore\"] = alldata[\"GarageArea\"] * alldata[\"SimplGarageQual\"]\n",
    "# Simplified overall fireplace score\n",
    "alldata[\"SimplFireplaceScore\"] = alldata[\"Fireplaces\"] * alldata[\"SimplFireplaceQu\"]\n",
    "# Simplified overall kitchen score\n",
    "alldata[\"SimplKitchenScore\"] = alldata[\"KitchenAbvGr\"] * alldata[\"SimplKitchenQual\"]\n",
    "# Total number of bathrooms\n",
    "alldata[\"TotalBath\"] = alldata[\"BsmtFullBath\"] + (0.5 * alldata[\"BsmtHalfBath\"]) + alldata[\"FullBath\"] + (0.5 * alldata[\"HalfBath\"])\n",
    "# Total SF for house (incl. basement)\n",
    "alldata[\"AllSF\"] = alldata[\"GrLivArea\"] + alldata[\"TotalBsmtSF\"]\n",
    "# Total SF for 1st + 2nd floors\n",
    "alldata[\"AllFlrsSF\"] = alldata[\"1stFlrSF\"] + alldata[\"2ndFlrSF\"]\n",
    "# Total SF for porch\n",
    "alldata[\"AllPorchSF\"] = alldata[\"OpenPorchSF\"] + alldata[\"EnclosedPorch\"] + alldata[\"3SsnPorch\"] + alldata[\"ScreenPorch\"]\n",
    "# Has masonry veneer or not\n",
    "alldata[\"HasMasVnr\"] = alldata.MasVnrType.replace({\"BrkCmn\" : 1, \"BrkFace\" : 1, \"CBlock\" : 1, \"Stone\" : 1, \"None\" : 0})\n",
    "# House completed before sale or not\n",
    "alldata[\"BoughtOffPlan\"] = alldata.SaleCondition.replace({\"Abnorml\" : 0, \"Alloca\" : 0, \"AdjLand\" : 0, \n",
    "                                                          \"Family\" : 0, \"Normal\" : 0, \"Partial\" : 1})"
   ]
  },
  {
   "cell_type": "code",
   "execution_count": 9,
   "metadata": {
    "collapsed": false
   },
   "outputs": [
    {
     "name": "stdout",
     "output_type": "stream",
     "text": [
      "Find most important features relative to target\n",
      "SalePrice            1.000\n",
      "OverallQual          0.819\n",
      "AllSF                0.817\n",
      "AllFlrsSF            0.729\n",
      "GrLivArea            0.719\n",
      "SimplOverallQual     0.708\n",
      "ExterQual            0.681\n",
      "GarageCars           0.680\n",
      "TotalBath            0.673\n",
      "KitchenQual          0.667\n",
      "GarageScore          0.657\n",
      "GarageArea           0.655\n",
      "TotalBsmtSF          0.642\n",
      "SimplExterQual       0.636\n",
      "SimplGarageScore     0.631\n",
      "BsmtQual             0.615\n",
      "1stFlrSF             0.614\n",
      "SimplKitchenQual     0.610\n",
      "OverallGrade         0.604\n",
      "SimplBsmtQual        0.594\n",
      "FullBath             0.591\n",
      "YearBuilt            0.589\n",
      "ExterGrade           0.587\n",
      "YearRemodAdd         0.569\n",
      "FireplaceQu          0.547\n",
      "GarageYrBlt          0.544\n",
      "TotRmsAbvGrd         0.533\n",
      "SimplOverallGrade    0.527\n",
      "SimplKitchenScore    0.523\n",
      "FireplaceScore       0.518\n",
      "                     ...  \n",
      "SimplBsmtCond        0.204\n",
      "BedroomAbvGr         0.204\n",
      "AllPorchSF           0.199\n",
      "LotFrontage          0.174\n",
      "SimplFunctional      0.137\n",
      "Functional           0.136\n",
      "ScreenPorch          0.124\n",
      "SimplBsmtFinType2    0.105\n",
      "Street               0.058\n",
      "3SsnPorch            0.056\n",
      "ExterCond            0.051\n",
      "PoolArea             0.041\n",
      "SimplPoolScore       0.040\n",
      "SimplPoolQC          0.040\n",
      "PoolScore            0.040\n",
      "PoolQC               0.038\n",
      "BsmtFinType2         0.016\n",
      "Utilities            0.013\n",
      "BsmtFinSF2           0.006\n",
      "BsmtHalfBath        -0.015\n",
      "MiscVal             -0.020\n",
      "SimplOverallCond    -0.028\n",
      "YrSold              -0.034\n",
      "OverallCond         -0.037\n",
      "LowQualFinSF        -0.038\n",
      "LandSlope           -0.040\n",
      "SimplExterCond      -0.042\n",
      "KitchenAbvGr        -0.148\n",
      "EnclosedPorch       -0.149\n",
      "LotShape            -0.286\n",
      "Name: SalePrice, dtype: float64\n"
     ]
    }
   ],
   "source": [
    "# Find most important features relative to target\n",
    "print(\"Find most important features relative to target\")\n",
    "corr = alldata.corr()\n",
    "corr.sort_values([\"SalePrice\"], ascending = False, inplace = True)\n",
    "print(corr.SalePrice)"
   ]
  },
  {
   "cell_type": "code",
   "execution_count": 10,
   "metadata": {
    "collapsed": true
   },
   "outputs": [],
   "source": [
    "# Create new features\n",
    "# 3* Polynomials on the top 25 existing features\n",
    "alldata[\"OverallQual-s2\"] = alldata[\"OverallQual\"] ** 2\n",
    "alldata[\"OverallQual-s3\"] = alldata[\"OverallQual\"] ** 3\n",
    "alldata[\"OverallQual-Sq\"] = np.sqrt(alldata[\"OverallQual\"])\n",
    "alldata[\"AllSF-2\"] = alldata[\"AllSF\"] ** 2\n",
    "alldata[\"AllSF-3\"] = alldata[\"AllSF\"] ** 3\n",
    "alldata[\"AllSF-Sq\"] = np.sqrt(alldata[\"AllSF\"])\n",
    "alldata[\"AllFlrsSF-2\"] = alldata[\"AllFlrsSF\"] ** 2\n",
    "alldata[\"AllFlrsSF-3\"] = alldata[\"AllFlrsSF\"] ** 3\n",
    "alldata[\"AllFlrsSF-Sq\"] = np.sqrt(alldata[\"AllFlrsSF\"])\n",
    "alldata[\"GrLivArea-2\"] = alldata[\"GrLivArea\"] ** 2\n",
    "alldata[\"GrLivArea-3\"] = alldata[\"GrLivArea\"] ** 3\n",
    "alldata[\"GrLivArea-Sq\"] = np.sqrt(alldata[\"GrLivArea\"])\n",
    "alldata[\"SimplOverallQual-s2\"] = alldata[\"SimplOverallQual\"] ** 2\n",
    "alldata[\"SimplOverallQual-s3\"] = alldata[\"SimplOverallQual\"] ** 3\n",
    "alldata[\"SimplOverallQual-Sq\"] = np.sqrt(alldata[\"SimplOverallQual\"])\n",
    "alldata[\"ExterQual-2\"] = alldata[\"ExterQual\"] ** 2\n",
    "alldata[\"ExterQual-3\"] = alldata[\"ExterQual\"] ** 3\n",
    "alldata[\"ExterQual-Sq\"] = np.sqrt(alldata[\"ExterQual\"])\n",
    "alldata[\"GarageCars-2\"] = alldata[\"GarageCars\"] ** 2\n",
    "alldata[\"GarageCars-3\"] = alldata[\"GarageCars\"] ** 3\n",
    "alldata[\"GarageCars-Sq\"] = np.sqrt(alldata[\"GarageCars\"])\n",
    "alldata[\"TotalBath-2\"] = alldata[\"TotalBath\"] ** 2\n",
    "alldata[\"TotalBath-3\"] = alldata[\"TotalBath\"] ** 3\n",
    "alldata[\"TotalBath-Sq\"] = np.sqrt(alldata[\"TotalBath\"])\n",
    "alldata[\"KitchenQual-2\"] = alldata[\"KitchenQual\"] ** 2\n",
    "alldata[\"KitchenQual-3\"] = alldata[\"KitchenQual\"] ** 3\n",
    "alldata[\"KitchenQual-Sq\"] = np.sqrt(alldata[\"KitchenQual\"])\n",
    "alldata[\"GarageScore-2\"] = alldata[\"GarageScore\"] ** 2\n",
    "alldata[\"GarageScore-3\"] = alldata[\"GarageScore\"] ** 3\n",
    "alldata[\"GarageScore-Sq\"] = np.sqrt(alldata[\"GarageScore\"])\n",
    "alldata[\"GarageArea-2\"] = alldata[\"GarageArea\"] ** 2\n",
    "alldata[\"GarageArea-3\"] = alldata[\"GarageArea\"] ** 3\n",
    "alldata[\"GarageArea-Sq\"] = np.sqrt(alldata[\"GarageArea\"])\n",
    "alldata[\"TotalBsmtSF-2\"] = alldata[\"TotalBsmtSF\"] ** 2\n",
    "alldata[\"TotalBsmtSF-3\"] = alldata[\"TotalBsmtSF\"] ** 3\n",
    "alldata[\"TotalBsmtSF-Sq\"] = np.sqrt(alldata[\"TotalBsmtSF\"])\n",
    "alldata[\"SimplExterQual-2\"] = alldata[\"SimplExterQual\"] ** 2\n",
    "alldata[\"SimplExterQual-3\"] = alldata[\"SimplExterQual\"] ** 3\n",
    "alldata[\"SimplExterQual-Sq\"] = np.sqrt(alldata[\"SimplExterQual\"])\n",
    "alldata[\"SimplGarageScore-2\"] = alldata[\"SimplGarageScore\"] ** 2\n",
    "alldata[\"SimplGarageScore-3\"] = alldata[\"SimplGarageScore\"] ** 3\n",
    "alldata[\"SimplGarageScore-Sq\"] = np.sqrt(alldata[\"SimplGarageScore\"])\n",
    "alldata[\"BsmtQual-2\"] = alldata[\"BsmtQual\"] ** 2\n",
    "alldata[\"BsmtQual-3\"] = alldata[\"BsmtQual\"] ** 3\n",
    "alldata[\"BsmtQual-Sq\"] = np.sqrt(alldata[\"BsmtQual\"])\n",
    "alldata[\"1stFlrSF-2\"] = alldata[\"1stFlrSF\"] ** 2\n",
    "alldata[\"1stFlrSF-3\"] = alldata[\"1stFlrSF\"] ** 3\n",
    "alldata[\"1stFlrSF-Sq\"] = np.sqrt(alldata[\"1stFlrSF\"])\n",
    "alldata[\"SimplKitchenQual-2\"] = alldata[\"SimplKitchenQual\"] ** 2\n",
    "alldata[\"SimplKitchenQual-3\"] = alldata[\"SimplKitchenQual\"] ** 3\n",
    "alldata[\"SimplKitchenQual-Sq\"] = np.sqrt(alldata[\"SimplKitchenQual\"])\n",
    "alldata[\"OverallGrade-2\"] = alldata[\"OverallGrade\"] ** 2\n",
    "alldata[\"OverallGrade-3\"] = alldata[\"OverallGrade\"] ** 3\n",
    "alldata[\"OverallGrade-Sq\"] = np.sqrt(alldata[\"OverallGrade\"])\n",
    "alldata[\"SimplBsmtQual-2\"] = alldata[\"SimplBsmtQual\"] ** 2\n",
    "alldata[\"SimplBsmtQual-3\"] = alldata[\"SimplBsmtQual\"] ** 3\n",
    "alldata[\"SimplBsmtQual-Sq\"] = np.sqrt(alldata[\"SimplBsmtQual\"])\n",
    "alldata[\"FullBath-2\"] = alldata[\"FullBath\"] ** 2\n",
    "alldata[\"FullBath-3\"] = alldata[\"FullBath\"] ** 3\n",
    "alldata[\"FullBath-Sq\"] = np.sqrt(alldata[\"FullBath\"])\n",
    "alldata[\"YearBuilt-2\"] = alldata[\"YearBuilt\"] ** 2\n",
    "alldata[\"YearBuilt-3\"] = alldata[\"YearBuilt\"] ** 3\n",
    "alldata[\"YearBuilt-Sq\"] = np.sqrt(alldata[\"YearBuilt\"])\n",
    "alldata[\"ExterGrade-2\"] = alldata[\"ExterGrade\"] ** 2\n",
    "alldata[\"ExterGrade-3\"] = alldata[\"ExterGrade\"] ** 3\n",
    "alldata[\"ExterGrade-Sq\"] = np.sqrt(alldata[\"ExterGrade\"])\n",
    "alldata[\"YearRemodAdd-2\"] = alldata[\"YearRemodAdd\"] ** 2\n",
    "alldata[\"YearRemodAdd-3\"] = alldata[\"YearRemodAdd\"] ** 3\n",
    "alldata[\"YearRemodAdd-Sq\"] = np.sqrt(alldata[\"YearRemodAdd\"])\n",
    "alldata[\"FireplaceQu-2\"] = alldata[\"FireplaceQu\"] ** 2\n",
    "alldata[\"FireplaceQu-3\"] = alldata[\"FireplaceQu\"] ** 3\n",
    "alldata[\"FireplaceQu-Sq\"] = np.sqrt(alldata[\"FireplaceQu\"])"
   ]
  },
  {
   "cell_type": "code",
   "execution_count": 11,
   "metadata": {
    "collapsed": true
   },
   "outputs": [],
   "source": [
    "# Create new features\n",
    "# 4* Cross-products on the top 10 existing features\n",
    "'''feats = [\"OverallQual\", \"AllSF\", \"AllFlrsSF\", \"GrLivArea\", \"SimplOverallQual\", \"ExterQual\", \"GarageCars\", \"TotalBath\", \n",
    "         \"KitchenQual\", \"GarageScore\", \"GarageArea\", \"TotalBsmtSF\", \"SimplExterQual\", \"SimplGarageScore\", \"BsmtQual\", \n",
    "         \"1stFlrSF\", \"SimplKitchenQual\", \"OverallGrade\", \"SimplBsmtQual\", \"FullBath\", \"YearBuilt\", \"ExterGrade\", \n",
    "         \"YearRemodAdd\", \"FireplaceQu\"]'''\n",
    "alldata[\"OverallQual*AllSF\"] = alldata[\"OverallQual\"] * alldata[\"AllSF\"]\n",
    "alldata[\"OverallQual*AllFlrsSF\"] = alldata[\"OverallQual\"] * alldata[\"AllFlrsSF\"]\n",
    "alldata[\"OverallQual*GrLivArea\"] = alldata[\"OverallQual\"] * alldata[\"GrLivArea\"]\n",
    "alldata[\"OverallQual*SimplOverallQual\"] = alldata[\"OverallQual\"] * alldata[\"SimplOverallQual\"]\n",
    "alldata[\"OverallQual*ExterQual\"] = alldata[\"OverallQual\"] * alldata[\"ExterQual\"]\n",
    "alldata[\"OverallQual*GarageCars\"] = alldata[\"OverallQual\"] * alldata[\"GarageCars\"]\n",
    "alldata[\"OverallQual*TotalBath\"] = alldata[\"OverallQual\"] * alldata[\"TotalBath\"]\n",
    "alldata[\"OverallQual*KitchenQual\"] = alldata[\"OverallQual\"] * alldata[\"KitchenQual\"]\n",
    "alldata[\"OverallQual*GarageScore\"] = alldata[\"OverallQual\"] * alldata[\"GarageScore\"]\n",
    "alldata[\"AllSF*AllFlrsSF\"] = alldata[\"AllSF\"] * alldata[\"AllFlrsSF\"]\n",
    "alldata[\"AllSF*GrLivArea\"] = alldata[\"AllSF\"] * alldata[\"GrLivArea\"]\n",
    "alldata[\"AllSF*SimplOverallQual\"] = alldata[\"AllSF\"] * alldata[\"SimplOverallQual\"]\n",
    "alldata[\"AllSF*ExterQual\"] = alldata[\"AllSF\"] * alldata[\"ExterQual\"]\n",
    "alldata[\"AllSF*GarageCars\"] = alldata[\"AllSF\"] * alldata[\"GarageCars\"]\n",
    "alldata[\"AllSF*TotalBath\"] = alldata[\"AllSF\"] * alldata[\"TotalBath\"]\n",
    "alldata[\"AllSF*KitchenQual\"] = alldata[\"AllSF\"] * alldata[\"KitchenQual\"]\n",
    "alldata[\"AllSF*GarageScore\"] = alldata[\"AllSF\"] * alldata[\"GarageScore\"]\n",
    "alldata[\"AllFlrsSF*GrLivArea\"] = alldata[\"AllFlrsSF\"] * alldata[\"GrLivArea\"]\n",
    "alldata[\"AllFlrsSF*SimplOverallQual\"] = alldata[\"AllFlrsSF\"] * alldata[\"SimplOverallQual\"]\n",
    "alldata[\"AllFlrsSF*ExterQual\"] = alldata[\"AllFlrsSF\"] * alldata[\"ExterQual\"]\n",
    "alldata[\"AllFlrsSF*GarageCars\"] = alldata[\"AllFlrsSF\"] * alldata[\"GarageCars\"]\n",
    "alldata[\"AllFlrsSF*TotalBath\"] = alldata[\"AllFlrsSF\"] * alldata[\"TotalBath\"]\n",
    "alldata[\"AllFlrsSF*KitchenQual\"] = alldata[\"AllFlrsSF\"] * alldata[\"KitchenQual\"]\n",
    "alldata[\"AllFlrsSF*GarageScore\"] = alldata[\"AllFlrsSF\"] * alldata[\"GarageScore\"]\n",
    "alldata[\"GrLivArea*SimplOverallQual\"] = alldata[\"GrLivArea\"] * alldata[\"SimplOverallQual\"]\n",
    "alldata[\"GrLivArea*ExterQual\"] = alldata[\"GrLivArea\"] * alldata[\"ExterQual\"]\n",
    "alldata[\"GrLivArea*GarageCars\"] = alldata[\"GrLivArea\"] * alldata[\"GarageCars\"]\n",
    "alldata[\"GrLivArea*TotalBath\"] = alldata[\"GrLivArea\"] * alldata[\"TotalBath\"]\n",
    "alldata[\"GrLivArea*KitchenQual\"] = alldata[\"GrLivArea\"] * alldata[\"KitchenQual\"]\n",
    "alldata[\"GrLivArea*GarageScore\"] = alldata[\"GrLivArea\"] * alldata[\"GarageScore\"]\n",
    "alldata[\"SimplOverallQual*ExterQual\"] = alldata[\"SimplOverallQual\"] * alldata[\"ExterQual\"]\n",
    "alldata[\"SimplOverallQual*GarageCars\"] = alldata[\"SimplOverallQual\"] * alldata[\"GarageCars\"]\n",
    "alldata[\"SimplOverallQual*TotalBath\"] = alldata[\"SimplOverallQual\"] * alldata[\"TotalBath\"]\n",
    "alldata[\"SimplOverallQual*KitchenQual\"] = alldata[\"SimplOverallQual\"] * alldata[\"KitchenQual\"]\n",
    "alldata[\"SimplOverallQual*GarageScore\"] = alldata[\"SimplOverallQual\"] * alldata[\"GarageScore\"]\n",
    "alldata[\"ExterQual*GarageCars\"] = alldata[\"ExterQual\"] * alldata[\"GarageCars\"]\n",
    "alldata[\"ExterQual*TotalBath\"] = alldata[\"ExterQual\"] * alldata[\"TotalBath\"]\n",
    "alldata[\"ExterQual*KitchenQual\"] = alldata[\"ExterQual\"] * alldata[\"KitchenQual\"]\n",
    "alldata[\"ExterQual*GarageScore\"] = alldata[\"ExterQual\"] * alldata[\"GarageScore\"]\n",
    "alldata[\"GarageCars*TotalBath\"] = alldata[\"GarageCars\"] * alldata[\"TotalBath\"]\n",
    "alldata[\"GarageCars*KitchenQual\"] = alldata[\"GarageCars\"] * alldata[\"KitchenQual\"]\n",
    "alldata[\"GarageCars*GarageScore\"] = alldata[\"GarageCars\"] * alldata[\"GarageScore\"]\n",
    "alldata[\"TotalBath*KitchenQual\"] = alldata[\"TotalBath\"] * alldata[\"KitchenQual\"]\n",
    "alldata[\"TotalBath*GarageScore\"] = alldata[\"TotalBath\"] * alldata[\"GarageScore\"]\n",
    "alldata[\"KitchenQual*GarageScore\"] = alldata[\"KitchenQual\"] * alldata[\"GarageScore\"]\n"
   ]
  },
  {
   "cell_type": "code",
   "execution_count": 12,
   "metadata": {
    "collapsed": false
   },
   "outputs": [
    {
     "name": "stdout",
     "output_type": "stream",
     "text": [
      "Numerical features : 204\n",
      "Categorical features : 26\n"
     ]
    }
   ],
   "source": [
    "# Differentiate numerical features (minus the target) and categorical features\n",
    "categorical_features = alldata.select_dtypes(include = [\"object\"]).columns\n",
    "numerical_features = alldata.select_dtypes(exclude = [\"object\"]).columns\n",
    "numerical_features = numerical_features.drop(\"SalePrice\")\n",
    "print(\"Numerical features : \" + str(len(numerical_features)))\n",
    "print(\"Categorical features : \" + str(len(categorical_features)))\n",
    "\n",
    "X_train = alldata.iloc[:train.shape[0], :]\n",
    "X_test = alldata.iloc[train.shape[0]: , :]\n",
    "\n",
    "X_train_num = X_train[numerical_features]\n",
    "X_train_cat = X_train[categorical_features]\n",
    "X_test_num = X_test[numerical_features]\n",
    "X_test_cat = X_test[categorical_features]"
   ]
  },
  {
   "cell_type": "code",
   "execution_count": 13,
   "metadata": {
    "collapsed": false
   },
   "outputs": [
    {
     "name": "stdout",
     "output_type": "stream",
     "text": [
      "NAs for numerical features in X_train : 81\n",
      "Remaining NAs for numerical features in X_train : 0\n",
      "NAs for numerical features in X_test : 97\n",
      "Remaining NAs for numerical features in X_test : 0\n"
     ]
    }
   ],
   "source": [
    "# Handle remaining missing values for numerical features by using median as replacement\n",
    "print(\"NAs for numerical features in X_train : \" + str(X_train_num.isnull().values.sum()))\n",
    "X_train_num = X_train_num.fillna(X_train_num.median())\n",
    "print(\"Remaining NAs for numerical features in X_train : \" + str(X_train_num.isnull().values.sum()))\n",
    "\n",
    "print(\"NAs for numerical features in X_test : \" + str(X_test_num.isnull().values.sum()))\n",
    "X_test_num = X_test_num.fillna(X_test_num.median())\n",
    "print(\"Remaining NAs for numerical features in X_test : \" + str(X_test_num.isnull().values.sum()))"
   ]
  },
  {
   "cell_type": "code",
   "execution_count": 14,
   "metadata": {
    "collapsed": false
   },
   "outputs": [
    {
     "name": "stdout",
     "output_type": "stream",
     "text": [
      "157 skewed numerical features to log transform in X_train\n"
     ]
    }
   ],
   "source": [
    "# Log transform of the skewed numerical features to lessen impact of outliers\n",
    "# Inspired by Alexandru Papiu's script : https://www.kaggle.com/apapiu/house-prices-advanced-regression-techniques/regularized-linear-models\n",
    "# As a general rule of thumb, a skewness with an absolute value > 0.5 is considered at least moderately skewed\n",
    "skewness = X_train_num.apply(lambda x: skew(x))\n",
    "skewness = skewness[abs(skewness) > 0.5]\n",
    "print(str(skewness.shape[0]) + \" skewed numerical features to log transform in X_train\")\n",
    "skewed_features = skewness.index\n",
    "X_train_num[skewed_features] = np.log1p(X_train_num[skewed_features])\n",
    "X_test_num[skewed_features] = np.log1p(X_test_num[skewed_features])"
   ]
  },
  {
   "cell_type": "code",
   "execution_count": 15,
   "metadata": {
    "collapsed": false
   },
   "outputs": [
    {
     "name": "stdout",
     "output_type": "stream",
     "text": [
      "NAs for categorical features : 8\n",
      "Remaining NAs for categorical features : 0\n"
     ]
    }
   ],
   "source": [
    "# Create dummy features for categorical values via one-hot encoding\n",
    "# Concatenate to make sure we get same number of dummy features in train and test\n",
    "alldata_cat = pd.concat([X_train_cat, X_test_cat], axis = 0)\n",
    "\n",
    "print(\"NAs for categorical features : \" + str(alldata_cat.isnull().values.sum()))\n",
    "alldata_cat = pd.get_dummies(alldata_cat)\n",
    "print(\"Remaining NAs for categorical features : \" + str(alldata_cat.isnull().values.sum()))\n",
    "\n",
    "X_train_cat = alldata_cat.iloc[:train.shape[0], :]\n",
    "X_test_cat = alldata_cat.iloc[train.shape[0]: , :]"
   ]
  },
  {
   "cell_type": "code",
   "execution_count": 16,
   "metadata": {
    "collapsed": false
   },
   "outputs": [
    {
     "name": "stdout",
     "output_type": "stream",
     "text": [
      "New number of features in X_train : 407\n",
      "New number of features in X_test : 407\n"
     ]
    }
   ],
   "source": [
    "# Join categorical and numerical features\n",
    "X_train = pd.concat([X_train_num, X_train_cat], axis = 1)\n",
    "X_test = pd.concat([X_test_num, X_test_cat], axis = 1)\n",
    "print(\"New number of features in X_train : \" + str(X_train.shape[1]))\n",
    "print(\"New number of features in X_test : \" + str(X_test.shape[1]))"
   ]
  },
  {
   "cell_type": "code",
   "execution_count": 17,
   "metadata": {
    "collapsed": false
   },
   "outputs": [],
   "source": [
    "# Standardize numerical features\n",
    "stdSc = StandardScaler()\n",
    "X_train.loc[:, numerical_features] = stdSc.fit_transform(X_train.loc[:, numerical_features])\n",
    "X_test.loc[:, numerical_features] = stdSc.transform(X_test.loc[:, numerical_features])"
   ]
  },
  {
   "cell_type": "code",
   "execution_count": 18,
   "metadata": {
    "collapsed": false
   },
   "outputs": [],
   "source": [
    "# Write data in CSV files\n",
    "X_train.to_csv(\"cleanData/X_train.csv\", index = False)\n",
    "X_test.to_csv(\"cleanData/X_test.csv\", index = False)\n",
    "y_train.to_csv(\"cleanData/y_train.csv\", index = False)\n",
    "testIDs.to_csv(\"cleanData/testIDs.csv\", index = False)"
   ]
  },
  {
   "cell_type": "code",
   "execution_count": null,
   "metadata": {
    "collapsed": true
   },
   "outputs": [],
   "source": []
  }
 ],
 "metadata": {
  "anaconda-cloud": {},
  "kernelspec": {
   "display_name": "Python [Root]",
   "language": "python",
   "name": "Python [Root]"
  },
  "language_info": {
   "codemirror_mode": {
    "name": "ipython",
    "version": 3
   },
   "file_extension": ".py",
   "mimetype": "text/x-python",
   "name": "python",
   "nbconvert_exporter": "python",
   "pygments_lexer": "ipython3",
   "version": "3.5.2"
  }
 },
 "nbformat": 4,
 "nbformat_minor": 0
}
